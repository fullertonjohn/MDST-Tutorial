{
  "cells": [
    {
      "cell_type": "markdown",
      "metadata": {
        "id": "KK8tP8mHwlkt"
      },
      "source": [
        "# The Python Ecosystem"
      ]
    },
    {
      "cell_type": "markdown",
      "metadata": {
        "id": "BMHjQ4ltwlkv"
      },
      "source": [
        "Here are some extra resources for learning Python:\n",
        "\n",
        "**Getting Started with Python**:\n",
        "\n",
        "* https://www.codecademy.com/learn/python\n",
        "* http://docs.python-guide.org/en/latest/intro/learning/\n",
        "* https://learnpythonthehardway.org/book/\n",
        "* https://www.codementor.io/learn-python-online\n",
        "\n",
        "**Learning Python in Notebooks**:\n",
        "\n",
        "* http://mbakker7.github.io/exploratory_computing_with_python/\n",
        "\n",
        "This is handy to always have available for reference:\n",
        "\n",
        "**Python Reference**:\n",
        "\n",
        "* https://docs.python.org/3/reference/\n"
      ]
    },
    {
      "cell_type": "markdown",
      "metadata": {
        "id": "tjMhql2Iwlkx"
      },
      "source": [
        "There are also many Python courses avilable via Datacamp. You can access all their courses with the invite link on our [resources page](https://www.mdst.club/resources)!"
      ]
    },
    {
      "cell_type": "markdown",
      "metadata": {
        "id": "wVBA9H4Wwlky"
      },
      "source": [
        "## 0. Jupyter Notebook"
      ]
    },
    {
      "cell_type": "markdown",
      "metadata": {
        "id": "-hHIwhKQwlkz"
      },
      "source": [
        "Welcome to Jupyter Notebook! Jupyter lets you develop documents that combine codes, visualizations and explanatory texts.\n",
        "\n",
        "At MDST, we use Jupyter Notebooks for:\n",
        "- data cleaning and transformation\n",
        "- statistical modeling\n",
        "- data visualization\n",
        "- machine learning\n",
        "- ..."
      ]
    },
    {
      "cell_type": "markdown",
      "metadata": {
        "id": "am50_nT4wlk0"
      },
      "source": [
        "Cells are the basic units of organization in Jupyter Notebooks. You can start editing each cell by pressing ENTER or double clicking."
      ]
    },
    {
      "cell_type": "markdown",
      "metadata": {
        "id": "gzTrGTVYwlk1"
      },
      "source": [
        "All our cells so far are _Markdown_ cells, meaning they just contain text!\n",
        "\n",
        "What is [Markdown](https://en.wikipedia.org/wiki/Markdown), you ask. It is a kind of text file where the information about the file's formatting is stored in the file itself.\n",
        "\n",
        "That means (enter edit mode to see the actual Markdown text):\n",
        "\n",
        "- To make something bold, put two asterisks on each side, **like so**.\n",
        "- To italicize something, put an asterisk on each side, *like so*.\n",
        "- To cross something out, put two tildes on each side, ~~like so~~.\n",
        "- To embed a link in words, put the words in square brackets and put the link immediately after that in parenthesis, [like so](https://www.yout-ube.com/watch?v=dQw4w9WgXcQ).\n",
        "\n",
        "Most crucially, simply pressing `ENTER` once does NOT do anything in Markdown. You have to leave an empty line before every new paragraph.\n",
        "\n",
        "Whereas these operations are done by clicking a button in MS Word or Google Docs, they are a part of the text in Markdown.\n",
        "\n",
        "Here is a Markdown [cheatsheet](https://www.markdownguide.org/cheat-sheet/)."
      ]
    },
    {
      "cell_type": "code",
      "execution_count": null,
      "metadata": {
        "id": "0oMDXwX9wlk2"
      },
      "outputs": [],
      "source": [
        "# Jupyter also has code cells for writing and running Python codes.\n",
        "# What's in this cell are not Python codes; they are comments. You can start comments by putting an asterisk at the beginning of lines.\n",
        "# Comments are for other humans only. The computer will ignore them when executing your programs.\n",
        "# Pro Tip: You can comment and uncomment many lines at once by highlighting them and pressing CTRL + / or CMD + /"
      ]
    },
    {
      "cell_type": "markdown",
      "metadata": {
        "id": "-ZQ_r8hQwlk3"
      },
      "source": [
        "You can run a cell by pressing `CTRL + ENTER` or `SHIFT + ENTER`. Running a cell will either render the contained Markdown to nice-looking text or execute the contained codes.\n",
        "\n",
        "If you are new to Python, you should run every cell in this notebook. If you already have some familarity, you can use the Table of Contents to skip ahead."
      ]
    },
    {
      "cell_type": "markdown",
      "metadata": {
        "id": "tBc1SO5ywlk4"
      },
      "source": [
        "# Table of Contents\n",
        "\n",
        "- [1. Data Types](#1.-Data-Types)\n",
        "    - [1.0 Your First Python Program](#1.0-Your-First-Python-Program)\n",
        "    - [1.1 Data Type](#1.1-Data-Type)\n",
        "    - [1.2 Container (list, tuple, dictionary, set)](#1.2-Container)\n",
        "- [2. Control Flow](#2.-Control-Flow)\n",
        "- [3. Iterating](#3.-Iterating)\n",
        "    - [3.0 For Loops](#3.0-For-Loops)\n",
        "    - [3.1 List Comprehension](#3.1-List-Comprehension-(Optional))\n",
        "- [4. Functions](#4.-Functions)\n",
        "    - [4.0 Import & Library](#4.0-Import-&-Library)\n",
        "    - [4.1 Built-in Function](#4.1-Built-in-Function)\n",
        "    - [4.2 Custom Function](#4.2-Custom-Function)\n",
        "    - [4.3 Lambda Function](#4.3-Lambda-Function-(Optional))\n",
        "    - [4.4 Type Hinting](#4.4-Type-Hinting-(Optional))\n",
        "- [5. Numpy](#5.-Numpy)\n",
        "    - [5.0 Array](#5.0-Array)\n",
        "    - [5.1 Math](#5.1-Math)\n",
        "- [6. Pandas](#6.-Pandas)\n",
        "    - [6.0 Dataframes & Series](#6.0-Dataframes-&-Series)\n",
        "    - [6.1 Indexing](#6.1-Indexing)\n",
        "    - [6.2 Data Transformation](#6.2-Data-Transformation)\n",
        "    - [6.3 Grouping & Aggregating](#6.3-Grouping-&-Aggregating)\n",
        "    - [6.4 Lambda Functions in Pandas](#6.4-Leveraging-Lambda-Functions-In-Pandas-(Optional))\n",
        "\n",
        "The checkpoint proceeds in the same order so you can follow along."
      ]
    },
    {
      "cell_type": "markdown",
      "metadata": {
        "id": "SgbZvdzywlk5"
      },
      "source": [
        "## 1. Data Types"
      ]
    },
    {
      "cell_type": "markdown",
      "metadata": {
        "id": "hNVPH15kwlk5"
      },
      "source": [
        "### 1.0 Your First Python Program"
      ]
    },
    {
      "cell_type": "code",
      "execution_count": null,
      "metadata": {
        "colab": {
          "base_uri": "https://localhost:8080/"
        },
        "id": "v3hmLdAuwlk6",
        "outputId": "2b5262f9-38b3-4c8d-9d86-b5d193f27d8e"
      },
      "outputs": [
        {
          "output_type": "stream",
          "name": "stdout",
          "text": [
            "Hello World\n"
          ]
        }
      ],
      "source": [
        "# Tradition demands that we do this\n",
        "# Try running this cell\n",
        "\n",
        "print(\"Hello World\")"
      ]
    },
    {
      "cell_type": "markdown",
      "metadata": {
        "id": "J0F_NCvPwlk6"
      },
      "source": [
        "The `print()` function is how you output things for people to see in Python."
      ]
    },
    {
      "cell_type": "code",
      "execution_count": null,
      "metadata": {
        "colab": {
          "base_uri": "https://localhost:8080/"
        },
        "id": "nwqjXwt4wlk6",
        "outputId": "8aac1f14-306c-46ef-f4c6-0385c7a8e43a"
      },
      "outputs": [
        {
          "output_type": "execute_result",
          "data": {
            "text/plain": [
              "2391683"
            ]
          },
          "metadata": {},
          "execution_count": 3
        }
      ],
      "source": [
        "# Notebooks will automatically print the output of the last line of each cell when they are ran\n",
        "\n",
        "413 * 5791"
      ]
    },
    {
      "cell_type": "markdown",
      "metadata": {
        "id": "kEDdcn-4wlk7"
      },
      "source": [
        "### 1.1 Data Type"
      ]
    },
    {
      "cell_type": "markdown",
      "metadata": {
        "id": "CSSbgFHywlk7"
      },
      "source": [
        "#### 1.1.0 Ints and Floats"
      ]
    },
    {
      "cell_type": "markdown",
      "metadata": {
        "id": "pEbikrbxwlk7"
      },
      "source": [
        "Python distinguishes between integers and decimal numbers (floats)."
      ]
    },
    {
      "cell_type": "code",
      "execution_count": null,
      "metadata": {
        "colab": {
          "base_uri": "https://localhost:8080/"
        },
        "id": "NpO8Ah9bwlk7",
        "outputId": "1a47cb4e-7793-4c9c-89ff-ca98de7c3bf1"
      },
      "outputs": [
        {
          "output_type": "execute_result",
          "data": {
            "text/plain": [
              "int"
            ]
          },
          "metadata": {},
          "execution_count": 4
        }
      ],
      "source": [
        "type(0)"
      ]
    },
    {
      "cell_type": "code",
      "execution_count": null,
      "metadata": {
        "colab": {
          "base_uri": "https://localhost:8080/"
        },
        "id": "cs7Sqzsvwlk8",
        "outputId": "e8177bd8-2010-4107-b878-6af5a8ad8011"
      },
      "outputs": [
        {
          "output_type": "execute_result",
          "data": {
            "text/plain": [
              "float"
            ]
          },
          "metadata": {},
          "execution_count": 5
        }
      ],
      "source": [
        "type(0.0)"
      ]
    },
    {
      "cell_type": "markdown",
      "metadata": {
        "id": "xhxZY-N1wlk8"
      },
      "source": [
        "Basic arithmetic is straight forward in Python."
      ]
    },
    {
      "cell_type": "code",
      "execution_count": null,
      "metadata": {
        "colab": {
          "base_uri": "https://localhost:8080/"
        },
        "id": "4J6KXXfLwlk8",
        "outputId": "6b119704-4a4a-4a31-df80-b35f90f21004"
      },
      "outputs": [
        {
          "output_type": "execute_result",
          "data": {
            "text/plain": [
              "5"
            ]
          },
          "metadata": {},
          "execution_count": 6
        }
      ],
      "source": [
        "3 + 2"
      ]
    },
    {
      "cell_type": "code",
      "execution_count": null,
      "metadata": {
        "colab": {
          "base_uri": "https://localhost:8080/"
        },
        "id": "gdFPsNvYwlk8",
        "outputId": "1a661c69-a4a4-4e00-80c7-2ea30650d68e"
      },
      "outputs": [
        {
          "output_type": "execute_result",
          "data": {
            "text/plain": [
              "-7.9"
            ]
          },
          "metadata": {},
          "execution_count": 7
        }
      ],
      "source": [
        "1.1 - 9.0"
      ]
    },
    {
      "cell_type": "code",
      "execution_count": null,
      "metadata": {
        "colab": {
          "base_uri": "https://localhost:8080/"
        },
        "id": "IpHrvKA1wlk8",
        "outputId": "3f88d26e-ffe4-4065-ab54-c9587ef0e4ec"
      },
      "outputs": [
        {
          "output_type": "execute_result",
          "data": {
            "text/plain": [
              "15"
            ]
          },
          "metadata": {},
          "execution_count": 8
        }
      ],
      "source": [
        "3 * 5"
      ]
    },
    {
      "cell_type": "code",
      "execution_count": null,
      "metadata": {
        "colab": {
          "base_uri": "https://localhost:8080/"
        },
        "id": "9ekcgHwQwlk9",
        "outputId": "9c35b5ff-bfad-47e6-f06c-6e1612df755c"
      },
      "outputs": [
        {
          "output_type": "stream",
          "name": "stdout",
          "text": [
            "0.5\n",
            "0.625\n"
          ]
        }
      ],
      "source": [
        "# When two numbers, regardless of whether they are int or float, are divided, Python returns the result as if the operation is done on a calculator\n",
        "# This is known as float division\n",
        "print(1/2)\n",
        "print(1.5/2.4)"
      ]
    },
    {
      "cell_type": "code",
      "execution_count": null,
      "metadata": {
        "colab": {
          "base_uri": "https://localhost:8080/"
        },
        "id": "gwpSM_n2wlk9",
        "outputId": "f82f0d88-4802-4c70-95f4-f3a4c902c65a"
      },
      "outputs": [
        {
          "output_type": "execute_result",
          "data": {
            "text/plain": [
              "2"
            ]
          },
          "metadata": {},
          "execution_count": 10
        }
      ],
      "source": [
        "# There is also integer division that can be done between two int\n",
        "# In Python, the behavior is always to round the float divison result down to the nearest integer\n",
        "14 // 5"
      ]
    },
    {
      "cell_type": "code",
      "execution_count": null,
      "metadata": {
        "colab": {
          "base_uri": "https://localhost:8080/"
        },
        "id": "4S8xi13Gwlk9",
        "outputId": "66421592-e635-4f05-90f6-0c15f15a3509"
      },
      "outputs": [
        {
          "output_type": "execute_result",
          "data": {
            "text/plain": [
              "3"
            ]
          },
          "metadata": {},
          "execution_count": 11
        }
      ],
      "source": [
        "# You can also find the remainders of divisions\n",
        "# Also known as taking the modulus\n",
        "13 % 5"
      ]
    },
    {
      "cell_type": "code",
      "execution_count": null,
      "metadata": {
        "colab": {
          "base_uri": "https://localhost:8080/"
        },
        "id": "6M36FClnwlk-",
        "outputId": "97bfa1fe-a699-4e11-d777-f15301f4f8ff"
      },
      "outputs": [
        {
          "output_type": "execute_result",
          "data": {
            "text/plain": [
              "1000"
            ]
          },
          "metadata": {},
          "execution_count": 12
        }
      ],
      "source": [
        "# exponent\n",
        "10 ** 3"
      ]
    },
    {
      "cell_type": "markdown",
      "metadata": {
        "id": "k2Z3vEpzwlk-"
      },
      "source": [
        "ints and floats are mostly interchangeable and can also be cast (i.e. converted) to the other type."
      ]
    },
    {
      "cell_type": "code",
      "execution_count": null,
      "metadata": {
        "colab": {
          "base_uri": "https://localhost:8080/"
        },
        "id": "HY8a7Haswlk-",
        "outputId": "1b1a73e4-21ee-4dbe-afc7-986d9fbb5d75"
      },
      "outputs": [
        {
          "output_type": "execute_result",
          "data": {
            "text/plain": [
              "3.0"
            ]
          },
          "metadata": {},
          "execution_count": 13
        }
      ],
      "source": [
        "float(3)"
      ]
    },
    {
      "cell_type": "code",
      "execution_count": null,
      "metadata": {
        "colab": {
          "base_uri": "https://localhost:8080/"
        },
        "id": "ViloA4xGwlk-",
        "outputId": "6bb75612-fb36-434a-a714-627617f00087"
      },
      "outputs": [
        {
          "output_type": "execute_result",
          "data": {
            "text/plain": [
              "2"
            ]
          },
          "metadata": {},
          "execution_count": 14
        }
      ],
      "source": [
        "int(2.9)"
      ]
    },
    {
      "cell_type": "markdown",
      "metadata": {
        "id": "WlO90ACPwlk-"
      },
      "source": [
        "#### 1.1.1 Strings"
      ]
    },
    {
      "cell_type": "markdown",
      "metadata": {
        "id": "OK-AVV1uwlk_"
      },
      "source": [
        "Strings are Python's internal representation of texts."
      ]
    },
    {
      "cell_type": "code",
      "execution_count": null,
      "metadata": {
        "colab": {
          "base_uri": "https://localhost:8080/"
        },
        "id": "49b9p4AIwlk_",
        "outputId": "00174399-c31c-4672-c4a7-141f5fcf2785"
      },
      "outputs": [
        {
          "output_type": "execute_result",
          "data": {
            "text/plain": [
              "str"
            ]
          },
          "metadata": {},
          "execution_count": 15
        }
      ],
      "source": [
        "# They can either be surrounded by double quotes...\n",
        "type(\"apple\")"
      ]
    },
    {
      "cell_type": "code",
      "execution_count": null,
      "metadata": {
        "colab": {
          "base_uri": "https://localhost:8080/"
        },
        "id": "DZkq4HYIwlk_",
        "outputId": "fd00e495-5b22-44cc-8c0a-e5b54aa7a7b7"
      },
      "outputs": [
        {
          "output_type": "execute_result",
          "data": {
            "text/plain": [
              "str"
            ]
          },
          "metadata": {},
          "execution_count": 16
        }
      ],
      "source": [
        "# or single quotes\n",
        "type('apple')"
      ]
    },
    {
      "cell_type": "code",
      "execution_count": null,
      "metadata": {
        "colab": {
          "base_uri": "https://localhost:8080/",
          "height": 35
        },
        "id": "Ci2WeHxHwlk_",
        "outputId": "89853dc2-aeed-483a-e696-b9161bce3e0d"
      },
      "outputs": [
        {
          "output_type": "execute_result",
          "data": {
            "text/plain": [
              "'Hello World'"
            ],
            "application/vnd.google.colaboratory.intrinsic+json": {
              "type": "string"
            }
          },
          "metadata": {},
          "execution_count": 17
        }
      ],
      "source": [
        "# You can piece two strings together (aka concatenate) using the plus sign\n",
        "\"Hello\" + \" World\""
      ]
    },
    {
      "cell_type": "markdown",
      "metadata": {
        "id": "cRKWwlI1wlk_"
      },
      "source": [
        "Python provides many functions for manipulating strings."
      ]
    },
    {
      "cell_type": "code",
      "execution_count": null,
      "metadata": {
        "colab": {
          "base_uri": "https://localhost:8080/",
          "height": 35
        },
        "id": "RB3auVFGwllA",
        "outputId": "00a70aad-ae08-4354-99fa-1d9b87aeb803"
      },
      "outputs": [
        {
          "output_type": "execute_result",
          "data": {
            "text/plain": [
              "'LIKE SO'"
            ],
            "application/vnd.google.colaboratory.intrinsic+json": {
              "type": "string"
            }
          },
          "metadata": {},
          "execution_count": 18
        }
      ],
      "source": [
        "# Capitalize\n",
        "\"like so\".upper()"
      ]
    },
    {
      "cell_type": "code",
      "execution_count": null,
      "metadata": {
        "colab": {
          "base_uri": "https://localhost:8080/",
          "height": 35
        },
        "id": "cpG6X0XvwllA",
        "outputId": "6e230cc7-d229-4f1f-d629-14175d4bd1b4"
      },
      "outputs": [
        {
          "output_type": "execute_result",
          "data": {
            "text/plain": [
              "'like so'"
            ],
            "application/vnd.google.colaboratory.intrinsic+json": {
              "type": "string"
            }
          },
          "metadata": {},
          "execution_count": 19
        }
      ],
      "source": [
        "# Lowercase\n",
        "\"LIKE SO\".lower()"
      ]
    },
    {
      "cell_type": "code",
      "execution_count": null,
      "metadata": {
        "colab": {
          "base_uri": "https://localhost:8080/",
          "height": 35
        },
        "id": "HDZKx-6fwllI",
        "outputId": "9daac22f-3ba8-4d2c-d2ba-6b447eec9cbb"
      },
      "outputs": [
        {
          "output_type": "execute_result",
          "data": {
            "text/plain": [
              "'Like So'"
            ],
            "application/vnd.google.colaboratory.intrinsic+json": {
              "type": "string"
            }
          },
          "metadata": {},
          "execution_count": 20
        }
      ],
      "source": [
        "# Title case\n",
        "\"like so\".title()"
      ]
    },
    {
      "cell_type": "code",
      "execution_count": null,
      "metadata": {
        "colab": {
          "base_uri": "https://localhost:8080/"
        },
        "id": "-36rJINYwllJ",
        "outputId": "ac3b8fbd-c508-4c40-da1b-02f048aa71e9"
      },
      "outputs": [
        {
          "output_type": "execute_result",
          "data": {
            "text/plain": [
              "7"
            ]
          },
          "metadata": {},
          "execution_count": 21
        }
      ],
      "source": [
        "# Count the number of characters, including whitespace\n",
        "len(\"like so\")"
      ]
    },
    {
      "cell_type": "code",
      "execution_count": null,
      "metadata": {
        "colab": {
          "base_uri": "https://localhost:8080/",
          "height": 35
        },
        "id": "5Kj3KwowwllJ",
        "outputId": "305d2e45-5c4e-4fd6-8817-e680a237912e"
      },
      "outputs": [
        {
          "output_type": "execute_result",
          "data": {
            "text/plain": [
              "'like so'"
            ],
            "application/vnd.google.colaboratory.intrinsic+json": {
              "type": "string"
            }
          },
          "metadata": {},
          "execution_count": 22
        }
      ],
      "source": [
        "# Remove spaces on either side of a string\n",
        "\"    like so  \".strip()"
      ]
    },
    {
      "cell_type": "code",
      "execution_count": null,
      "metadata": {
        "colab": {
          "base_uri": "https://localhost:8080/"
        },
        "id": "E778yRmTwllJ",
        "outputId": "17e9dbf2-07b5-41cf-8ca9-49f05d92037e"
      },
      "outputs": [
        {
          "output_type": "execute_result",
          "data": {
            "text/plain": [
              "['like', 'so']"
            ]
          },
          "metadata": {},
          "execution_count": 23
        }
      ],
      "source": [
        "# Split a string into a list of words\n",
        "\"like so\".split()"
      ]
    },
    {
      "cell_type": "markdown",
      "metadata": {
        "id": "kwc93q2twllK"
      },
      "source": [
        "You can find a comprehensive list of these functions [here](https://www.w3schools.com/python/python_ref_string.asp)."
      ]
    },
    {
      "cell_type": "markdown",
      "metadata": {
        "id": "FRQga2crwllK"
      },
      "source": [
        "#### 1.1.2 Boolean Values"
      ]
    },
    {
      "cell_type": "markdown",
      "metadata": {
        "id": "sFfUXgAHwllK"
      },
      "source": [
        "There are two boolean values in Python `True` and `False`. They are case sensitive and must be typed exactly as such.\n",
        "\n",
        "Now time for some basic [boolean algebra](https://en.wikipedia.org/wiki/Boolean_algebra)."
      ]
    },
    {
      "cell_type": "markdown",
      "metadata": {
        "id": "YuBd3KwswllK"
      },
      "source": [
        "You can flip a boolean value to its opposite with `not`."
      ]
    },
    {
      "cell_type": "code",
      "execution_count": null,
      "metadata": {
        "colab": {
          "base_uri": "https://localhost:8080/"
        },
        "id": "s10oGmLewllK",
        "outputId": "f6b139c9-3e5d-4a7d-8369-b39b313e5c68"
      },
      "outputs": [
        {
          "output_type": "stream",
          "name": "stdout",
          "text": [
            "False\n",
            "True\n"
          ]
        }
      ],
      "source": [
        "print(not True)\n",
        "print(not False)"
      ]
    },
    {
      "cell_type": "code",
      "execution_count": null,
      "metadata": {
        "colab": {
          "base_uri": "https://localhost:8080/"
        },
        "id": "6INULT9SwllL",
        "outputId": "88c130ae-67dc-46b6-8107-5db2c551686d"
      },
      "outputs": [
        {
          "output_type": "stream",
          "name": "stdout",
          "text": [
            "True\n",
            "False\n",
            "False\n"
          ]
        }
      ],
      "source": [
        "# and, or conjunction, only evaluates to True when every boolean value involved is True\n",
        "print(True and True)\n",
        "print(True and False)\n",
        "print(False and False)"
      ]
    },
    {
      "cell_type": "code",
      "execution_count": null,
      "metadata": {
        "colab": {
          "base_uri": "https://localhost:8080/"
        },
        "id": "VDwLq2gPwllL",
        "outputId": "70294a2c-005f-407f-c604-d49c190e937f"
      },
      "outputs": [
        {
          "output_type": "stream",
          "name": "stdout",
          "text": [
            "True\n",
            "True\n",
            "False\n"
          ]
        }
      ],
      "source": [
        "# or, or disjunction, evaluates to True whenever at least one involved boolean value is True\n",
        "print(True or True)\n",
        "print(True or False)\n",
        "print(False or False)"
      ]
    },
    {
      "cell_type": "code",
      "execution_count": null,
      "metadata": {
        "colab": {
          "base_uri": "https://localhost:8080/"
        },
        "id": "a6NAQYH0wllL",
        "outputId": "631abe86-d8e7-40e4-eb01-7a3922d20043"
      },
      "outputs": [
        {
          "output_type": "stream",
          "name": "stdout",
          "text": [
            "True\n",
            "False\n"
          ]
        }
      ],
      "source": [
        "# All the non-zero numbers are treated as True\n",
        "print(bool(1 and True))\n",
        "print(bool(0 and True))"
      ]
    },
    {
      "cell_type": "code",
      "execution_count": null,
      "metadata": {
        "colab": {
          "base_uri": "https://localhost:8080/"
        },
        "id": "Z9saQCyuwllL",
        "outputId": "2a27fa0a-91a6-46c7-af66-e927aea6dd89"
      },
      "outputs": [
        {
          "output_type": "stream",
          "name": "stdout",
          "text": [
            "False\n",
            "True\n",
            "True\n"
          ]
        }
      ],
      "source": [
        "# All non-empty strings, even if the string is all whitespaces, are treated as True\n",
        "print(bool(True and \"\"))\n",
        "print(bool(True and \"    \"))\n",
        "print(bool(True and \"False\"))"
      ]
    },
    {
      "cell_type": "markdown",
      "metadata": {
        "id": "CpMCZSQdwllM"
      },
      "source": [
        "We will use boolean values much more extensively when we encounter control flow and `if` statements."
      ]
    },
    {
      "cell_type": "markdown",
      "metadata": {
        "id": "E6n90myWwllM"
      },
      "source": [
        "#### 1.1.3 Variables"
      ]
    },
    {
      "cell_type": "markdown",
      "metadata": {
        "id": "P-CUpQ9IwllM"
      },
      "source": [
        "You can store data inside named variables, and refer back to the data with its name.\n",
        "\n",
        "Variable names cannot begin with a digit."
      ]
    },
    {
      "cell_type": "code",
      "execution_count": null,
      "metadata": {
        "id": "ZYBvr1DVwllN"
      },
      "outputs": [],
      "source": [
        "# Python automatically figures out what type your variables are\n",
        "# Once the cell is ran, the variables are made available everywhere else in the notebook\n",
        "\n",
        "x = 4\n",
        "y = 5"
      ]
    },
    {
      "cell_type": "code",
      "execution_count": null,
      "metadata": {
        "colab": {
          "base_uri": "https://localhost:8080/"
        },
        "id": "AnGgXmLdwllO",
        "outputId": "3904b18b-04a4-4d63-b14d-5cef6590bec2"
      },
      "outputs": [
        {
          "output_type": "execute_result",
          "data": {
            "text/plain": [
              "41"
            ]
          },
          "metadata": {},
          "execution_count": 30
        }
      ],
      "source": [
        "# We can do arithmetic with those variables in another cell\n",
        "4*x + 5*y"
      ]
    },
    {
      "cell_type": "code",
      "execution_count": null,
      "metadata": {
        "colab": {
          "base_uri": "https://localhost:8080/"
        },
        "id": "VZOtGxTewllO",
        "outputId": "1130dbe2-2403-4bc8-9c0b-b336a1290050"
      },
      "outputs": [
        {
          "output_type": "execute_result",
          "data": {
            "text/plain": [
              "6"
            ]
          },
          "metadata": {},
          "execution_count": 31
        }
      ],
      "source": [
        "# There are some shorthands for updating variables\n",
        "# Instead of x = x + 2\n",
        "# We can simply do:\n",
        "\n",
        "x += 2\n",
        "x\n",
        "\n",
        "# You can do the same for -, *, and /"
      ]
    },
    {
      "cell_type": "code",
      "execution_count": null,
      "metadata": {
        "id": "1tXuIhckwllO"
      },
      "outputs": [],
      "source": [
        "# In Python, snake case is the norm for multi-word variable names\n",
        "\n",
        "michigan_data_science_club_abbreviation = \"MDST\""
      ]
    },
    {
      "cell_type": "code",
      "execution_count": null,
      "metadata": {
        "colab": {
          "base_uri": "https://localhost:8080/",
          "height": 35
        },
        "id": "tw7SNSBtwllP",
        "outputId": "ecb9fe00-2c81-4d02-982c-15902eb7defb"
      },
      "outputs": [
        {
          "output_type": "execute_result",
          "data": {
            "text/plain": [
              "'like so'"
            ],
            "application/vnd.google.colaboratory.intrinsic+json": {
              "type": "string"
            }
          },
          "metadata": {},
          "execution_count": 33
        }
      ],
      "source": [
        "# The values stored inside the variables can be overwritten later by referring back to the variable name\n",
        "# Python allows changing the data type of the variable when it is overwritten\n",
        "\n",
        "x = \"like\"\n",
        "y = \" so\"\n",
        "\n",
        "x + y"
      ]
    },
    {
      "cell_type": "markdown",
      "metadata": {
        "id": "G2iA5KhdwllP"
      },
      "source": [
        "### 1.2 Container"
      ]
    },
    {
      "cell_type": "markdown",
      "metadata": {
        "id": "1mwWAzW9wllP"
      },
      "source": [
        "#### 1.2.0 List"
      ]
    },
    {
      "cell_type": "markdown",
      "metadata": {
        "id": "kY9gtpYSwllP"
      },
      "source": [
        "A list is a collection of data. A list can contain different types of data."
      ]
    },
    {
      "cell_type": "code",
      "execution_count": null,
      "metadata": {
        "id": "blOxZES6wllQ"
      },
      "outputs": [],
      "source": [
        "# You can create (aka initialize) an empty list with the square brackets\n",
        "empty_list = []\n",
        "\n",
        "# or with the list() command\n",
        "another_empty_list = list()"
      ]
    },
    {
      "cell_type": "code",
      "execution_count": null,
      "metadata": {
        "id": "WpDWOn44wllQ"
      },
      "outputs": [],
      "source": [
        "# Or you can create lists by listing the elements it should contain\n",
        "nonempty_list = [32, 'MDST', True]"
      ]
    },
    {
      "cell_type": "markdown",
      "metadata": {
        "id": "U0GHL1V5wllQ"
      },
      "source": [
        "Once a list is created, you can retrieve elements inside with its index.\n",
        "\n",
        "Python uses 0-indexing, meaning the first element is on index 0."
      ]
    },
    {
      "cell_type": "code",
      "execution_count": null,
      "metadata": {
        "colab": {
          "base_uri": "https://localhost:8080/",
          "height": 35
        },
        "id": "WjpIGUvTwllQ",
        "outputId": "8b0ea778-be7f-4fe8-adda-baf8cf2d2209"
      },
      "outputs": [
        {
          "output_type": "execute_result",
          "data": {
            "text/plain": [
              "'MDST'"
            ],
            "application/vnd.google.colaboratory.intrinsic+json": {
              "type": "string"
            }
          },
          "metadata": {},
          "execution_count": 37
        }
      ],
      "source": [
        "# Retrieve an element by putting its index in a square bracket after the list's name\n",
        "nonempty_list[1]"
      ]
    },
    {
      "cell_type": "code",
      "execution_count": null,
      "metadata": {
        "colab": {
          "base_uri": "https://localhost:8080/",
          "height": 35
        },
        "id": "LMI6VZRrwllQ",
        "outputId": "93eebfa4-bdcb-4767-ef21-0d79f2983dab"
      },
      "outputs": [
        {
          "output_type": "execute_result",
          "data": {
            "text/plain": [
              "'S'"
            ],
            "application/vnd.google.colaboratory.intrinsic+json": {
              "type": "string"
            }
          },
          "metadata": {},
          "execution_count": 38
        }
      ],
      "source": [
        "# This works similarly for strings\n",
        "mdst = \"MDST\"\n",
        "mdst[2]"
      ]
    },
    {
      "cell_type": "code",
      "execution_count": null,
      "metadata": {
        "colab": {
          "base_uri": "https://localhost:8080/",
          "height": 35
        },
        "id": "_um38WkdwllR",
        "outputId": "e2cece2e-4a5f-40da-fe9b-0dd391d3e43f"
      },
      "outputs": [
        {
          "output_type": "execute_result",
          "data": {
            "text/plain": [
              "'S'"
            ],
            "application/vnd.google.colaboratory.intrinsic+json": {
              "type": "string"
            }
          },
          "metadata": {},
          "execution_count": 42
        }
      ],
      "source": [
        "# You can chain indices as well\n",
        "nonempty_list[1][2]"
      ]
    },
    {
      "cell_type": "markdown",
      "metadata": {
        "id": "E764aROhwllR"
      },
      "source": [
        "Negative numbers index from the end. Think of it as -1 wrapping around to the last element in the list. -2 is then the second last element in the list etc."
      ]
    },
    {
      "cell_type": "code",
      "execution_count": null,
      "metadata": {
        "colab": {
          "base_uri": "https://localhost:8080/",
          "height": 35
        },
        "id": "FduYBhZNwllR",
        "outputId": "37894bce-8858-458a-e4bc-f9bc1d0cd46f"
      },
      "outputs": [
        {
          "output_type": "execute_result",
          "data": {
            "text/plain": [
              "'MDST'"
            ],
            "application/vnd.google.colaboratory.intrinsic+json": {
              "type": "string"
            }
          },
          "metadata": {},
          "execution_count": 43
        }
      ],
      "source": [
        "nonempty_list[-2]"
      ]
    },
    {
      "cell_type": "markdown",
      "metadata": {
        "id": "gZxPPWEwwllS"
      },
      "source": [
        "Be careful to not use an index that doesn't exist in a list. Python won't know what to do and will throw an error."
      ]
    },
    {
      "cell_type": "code",
      "execution_count": null,
      "metadata": {
        "colab": {
          "base_uri": "https://localhost:8080/",
          "height": 176
        },
        "id": "ubptHKWywllS",
        "outputId": "394b445f-8cbc-4333-be64-1d90867c26a6"
      },
      "outputs": [
        {
          "output_type": "error",
          "ename": "IndexError",
          "evalue": "list index out of range",
          "traceback": [
            "\u001b[0;31m---------------------------------------------------------------------------\u001b[0m",
            "\u001b[0;31mIndexError\u001b[0m                                Traceback (most recent call last)",
            "\u001b[0;32m<ipython-input-41-421d5ae6e051>\u001b[0m in \u001b[0;36m<cell line: 0>\u001b[0;34m()\u001b[0m\n\u001b[1;32m      1\u001b[0m \u001b[0;31m# Getting the first element in an empty list doesn't make sense.\u001b[0m\u001b[0;34m\u001b[0m\u001b[0;34m\u001b[0m\u001b[0m\n\u001b[1;32m      2\u001b[0m \u001b[0;34m\u001b[0m\u001b[0m\n\u001b[0;32m----> 3\u001b[0;31m \u001b[0mprint\u001b[0m\u001b[0;34m(\u001b[0m\u001b[0mempty_list\u001b[0m\u001b[0;34m[\u001b[0m\u001b[0;36m0\u001b[0m\u001b[0;34m]\u001b[0m\u001b[0;34m)\u001b[0m\u001b[0;34m\u001b[0m\u001b[0;34m\u001b[0m\u001b[0m\n\u001b[0m",
            "\u001b[0;31mIndexError\u001b[0m: list index out of range"
          ]
        }
      ],
      "source": [
        "# Getting the first element in an empty list doesn't make sense.\n",
        "\n",
        "print(empty_list[0])\n"
      ]
    },
    {
      "cell_type": "code",
      "execution_count": null,
      "metadata": {
        "id": "hwLjTpEiwllS"
      },
      "outputs": [],
      "source": [
        "# Neither does finding the fifth element in a three-element list\n",
        "\n",
        "print(nonempty_list[4])"
      ]
    },
    {
      "cell_type": "markdown",
      "metadata": {
        "id": "xZdDVJ1CwllS"
      },
      "source": [
        "You can use indexing to get subarrays/substrings.\n",
        "\n",
        "syntax: [start:end:step]\n",
        "\n",
        "The subarray will include the start index (inclusive) but not the end (exclusive)."
      ]
    },
    {
      "cell_type": "code",
      "execution_count": null,
      "metadata": {
        "id": "azZLHOhJwllT"
      },
      "outputs": [],
      "source": [
        "sample_list = [0, 1, 2, 3 , 4, 5, 6, 7, 8, 9, 10]"
      ]
    },
    {
      "cell_type": "code",
      "execution_count": null,
      "metadata": {
        "colab": {
          "base_uri": "https://localhost:8080/"
        },
        "id": "FVQaYy9jwllT",
        "outputId": "9eef997b-2269-459b-998c-ca34b9c658b8"
      },
      "outputs": [
        {
          "output_type": "execute_result",
          "data": {
            "text/plain": [
              "[3, 4, 5, 6, 7]"
            ]
          },
          "metadata": {},
          "execution_count": 45
        }
      ],
      "source": [
        "# Getting the fourth to eighth element\n",
        "# If you don't specify the step, Python assumes you want every element in the range\n",
        "\n",
        "sample_list[3:8]"
      ]
    },
    {
      "cell_type": "code",
      "execution_count": null,
      "metadata": {
        "colab": {
          "base_uri": "https://localhost:8080/"
        },
        "id": "QUdVYBg0wllV",
        "outputId": "c9db7a5e-3bd1-445e-a097-c0d66306e33d"
      },
      "outputs": [
        {
          "output_type": "execute_result",
          "data": {
            "text/plain": [
              "[5, 6, 7, 8, 9, 10]"
            ]
          },
          "metadata": {},
          "execution_count": 46
        }
      ],
      "source": [
        "# When end is not specified, Python includes everything including and after the start index\n",
        "sample_list[5:]"
      ]
    },
    {
      "cell_type": "code",
      "execution_count": null,
      "metadata": {
        "colab": {
          "base_uri": "https://localhost:8080/"
        },
        "id": "FDEBOiYowllV",
        "outputId": "5957c130-f3aa-4387-b13e-5261531cce98"
      },
      "outputs": [
        {
          "output_type": "execute_result",
          "data": {
            "text/plain": [
              "[0, 1, 2, 3, 4, 5]"
            ]
          },
          "metadata": {},
          "execution_count": 47
        }
      ],
      "source": [
        "# Similarly, when start is not specified, Python includes everything before the end index but excludes the end index itself\n",
        "sample_list[:-5]"
      ]
    },
    {
      "cell_type": "code",
      "execution_count": null,
      "metadata": {
        "colab": {
          "base_uri": "https://localhost:8080/"
        },
        "id": "m_iQS1SkwllV",
        "outputId": "71996066-8dff-46eb-fe09-e3e34b0ee892"
      },
      "outputs": [
        {
          "output_type": "execute_result",
          "data": {
            "text/plain": [
              "[0, 2, 4, 6, 8, 10]"
            ]
          },
          "metadata": {},
          "execution_count": 48
        }
      ],
      "source": [
        "# When neither start nor end is specified, Python applies the step argument to the entire list\n",
        "# step = 2 means to take 2 steps forward each time an element is selected. In other words, it selects every other element\n",
        "\n",
        "sample_list[::2]"
      ]
    },
    {
      "cell_type": "code",
      "execution_count": null,
      "metadata": {
        "colab": {
          "base_uri": "https://localhost:8080/"
        },
        "id": "UJ7E3aXDwllV",
        "outputId": "9b76ee2b-9446-4534-ab43-b8499064e49a"
      },
      "outputs": [
        {
          "output_type": "execute_result",
          "data": {
            "text/plain": [
              "[10, 9, 8, 7, 6, 5, 4, 3, 2, 1, 0]"
            ]
          },
          "metadata": {},
          "execution_count": 49
        }
      ],
      "source": [
        "# A neat trick for reversing a list, try to understand what it's doing\n",
        "sample_list[::-1]"
      ]
    },
    {
      "cell_type": "markdown",
      "metadata": {
        "id": "TeGomQtKwllW"
      },
      "source": [
        "You can add element to an existing list ..."
      ]
    },
    {
      "cell_type": "code",
      "execution_count": null,
      "metadata": {
        "colab": {
          "base_uri": "https://localhost:8080/"
        },
        "id": "L4YQiYp7wllW",
        "outputId": "6f3b658b-9541-430a-f924-e88ecd796dce"
      },
      "outputs": [
        {
          "output_type": "stream",
          "name": "stdout",
          "text": [
            "[0, 0.5, 1, 2, 3, 4, 5, 6, 7, 8, 9, 10, 11]\n"
          ]
        }
      ],
      "source": [
        "# at the end ...\n",
        "sample_list.append(11)\n",
        "\n",
        "# or somewhere in the middle\n",
        "# syntax: insert(index, new_value)\n",
        "sample_list.insert(1, 0.5)\n",
        "\n",
        "print(sample_list)"
      ]
    },
    {
      "cell_type": "markdown",
      "metadata": {
        "id": "sg-ZM-C0wllW"
      },
      "source": [
        "or remove an element ..."
      ]
    },
    {
      "cell_type": "code",
      "execution_count": null,
      "metadata": {
        "colab": {
          "base_uri": "https://localhost:8080/"
        },
        "id": "QhD5NQilwllW",
        "outputId": "94567c94-386c-4240-fd3c-94a1b9d62438"
      },
      "outputs": [
        {
          "output_type": "execute_result",
          "data": {
            "text/plain": [
              "[1, 2, 3, 4, 5, 6, 7, 8, 9, 10, 11]"
            ]
          },
          "metadata": {},
          "execution_count": 51
        }
      ],
      "source": [
        "# remove the first instance of a given value in the list\n",
        "sample_list.remove(0.5)\n",
        "\n",
        "# or remove the element on a specified index\n",
        "sample_list.pop(0)\n",
        "\n",
        "sample_list"
      ]
    },
    {
      "cell_type": "markdown",
      "metadata": {
        "id": "ndFfFJXtwllX"
      },
      "source": [
        "or change an element using its index ..."
      ]
    },
    {
      "cell_type": "code",
      "execution_count": null,
      "metadata": {
        "id": "BHXtMjafwllX"
      },
      "outputs": [],
      "source": [
        "sample_list[-1] = 12\n",
        "sample_list"
      ]
    },
    {
      "cell_type": "markdown",
      "metadata": {
        "id": "Wp8SDgW1wllX"
      },
      "source": [
        "or many other things ...\n",
        "\n",
        "See the full range of possibility [here](https://www.w3schools.com/python/python_ref_list.asp)."
      ]
    },
    {
      "cell_type": "markdown",
      "metadata": {
        "id": "EHrmE88AwllX"
      },
      "source": [
        "If you thought typing out every number from 0 to 10 was an inefficient way of creating a list, you will be glad to learn about the `range()` function.\n",
        "\n",
        "Syntax: `range(start (inclusive), end (exclusive), step)`\n",
        "\n",
        "Pro tip: if you only specify `end`, Python will give you every integer from 0 up to the one before `end`."
      ]
    },
    {
      "cell_type": "code",
      "execution_count": null,
      "metadata": {
        "colab": {
          "base_uri": "https://localhost:8080/"
        },
        "id": "oyFKiEI0wllX",
        "outputId": "0e7c803b-0d9c-49f1-dd7b-3ba1a4adedb9"
      },
      "outputs": [
        {
          "output_type": "execute_result",
          "data": {
            "text/plain": [
              "[0, 1, 2, 3, 4, 5, 6, 7, 8, 9, 10]"
            ]
          },
          "metadata": {},
          "execution_count": 52
        }
      ],
      "source": [
        "# let's recreate the list of numbers from 0 to 10 using range()\n",
        "# The output of range()'s type is range, not list. We need to convert it with list()\n",
        "sample_list = list(range(11))\n",
        "sample_list"
      ]
    },
    {
      "cell_type": "markdown",
      "metadata": {
        "id": "fYYtNfTtwllY"
      },
      "source": [
        "##### 1.2.1 Tuple"
      ]
    },
    {
      "cell_type": "markdown",
      "metadata": {
        "id": "_ONw80pSwllY"
      },
      "source": [
        "Python tuples are list-like data structures with one important difference."
      ]
    },
    {
      "cell_type": "code",
      "execution_count": null,
      "metadata": {
        "colab": {
          "base_uri": "https://localhost:8080/"
        },
        "id": "P0W31QEzwllY",
        "outputId": "61e3b90b-4622-4130-9abc-4c43bed1b681"
      },
      "outputs": [
        {
          "output_type": "stream",
          "name": "stdout",
          "text": [
            "() (1, 2, 3, 4)\n"
          ]
        }
      ],
      "source": [
        "# You can create them with parenthesis\n",
        "\n",
        "empty_tuple = tuple()\n",
        "\n",
        "sample_tuple = (1, 2, 3, 4)\n",
        "\n",
        "print(empty_tuple, sample_tuple)"
      ]
    },
    {
      "cell_type": "markdown",
      "metadata": {
        "id": "KAYr-AHOwllY"
      },
      "source": [
        "Indexing tuples is just like indexing lists"
      ]
    },
    {
      "cell_type": "code",
      "execution_count": null,
      "metadata": {
        "colab": {
          "base_uri": "https://localhost:8080/"
        },
        "id": "I-W6KZJEwllY",
        "outputId": "2ce47913-e928-439c-facd-b0b4567f822d"
      },
      "outputs": [
        {
          "output_type": "stream",
          "name": "stdout",
          "text": [
            "2 2\n"
          ]
        }
      ],
      "source": [
        "print(sample_tuple[1], sample_tuple[-3])"
      ]
    },
    {
      "cell_type": "markdown",
      "metadata": {
        "id": "VzD66LxtwllY"
      },
      "source": [
        "Crucially, tuples can NOT be modified once created.\n",
        "\n",
        "Tuples are *immutable*. While this property makes them less versatile than lists, it sometimes come in handy. For example, tuples can be used as keys in dictionaries (next section)."
      ]
    },
    {
      "cell_type": "code",
      "execution_count": null,
      "metadata": {
        "colab": {
          "base_uri": "https://localhost:8080/"
        },
        "id": "JOZvxRnTwlld",
        "outputId": "aeb691d3-aa88-42e9-a249-ef6f372c38bb"
      },
      "outputs": [
        {
          "output_type": "stream",
          "name": "stdout",
          "text": [
            "'tuple' object does not support item assignment\n"
          ]
        }
      ],
      "source": [
        "# try to overwrite an item in a tuple\n",
        "\n",
        "try:\n",
        "    sample_tuple[-1] = 10\n",
        "except TypeError as e:\n",
        "    print(e)"
      ]
    },
    {
      "cell_type": "markdown",
      "metadata": {
        "id": "8aePsYFewlle"
      },
      "source": [
        "##### 1.2.2 Dictionary"
      ]
    },
    {
      "cell_type": "markdown",
      "metadata": {
        "id": "ofX64W3nwlle"
      },
      "source": [
        "Dictionary is a way to store pairs of values, known as keys and values, with some associations to each other."
      ]
    },
    {
      "cell_type": "code",
      "execution_count": null,
      "metadata": {
        "colab": {
          "base_uri": "https://localhost:8080/"
        },
        "id": "ZB0EFYglwlle",
        "outputId": "e7d35547-a4c0-4695-826b-0c5d83a3bfd3"
      },
      "outputs": [
        {
          "output_type": "stream",
          "name": "stdout",
          "text": [
            "{} {}\n"
          ]
        }
      ],
      "source": [
        "# You can create an empty dictionary in two ways\n",
        "empty_dict1 = dict()\n",
        "empty_dict2 = {}\n",
        "\n",
        "print(empty_dict1, empty_dict2)"
      ]
    },
    {
      "cell_type": "code",
      "execution_count": null,
      "metadata": {
        "id": "RJnwWRPMwlle"
      },
      "outputs": [],
      "source": [
        "# You can also create dictionaries by specifying the key:value pairs\n",
        "panda_express_pricing = {\"Bowl\":5.80, \"Plate\":6.80, \"Bigger Plate\":8.30}"
      ]
    },
    {
      "cell_type": "markdown",
      "metadata": {
        "id": "Z2UQt1C6wllf"
      },
      "source": [
        "You index a dictionary with a key and gets its associated value."
      ]
    },
    {
      "cell_type": "code",
      "execution_count": null,
      "metadata": {
        "colab": {
          "base_uri": "https://localhost:8080/"
        },
        "id": "8hQzmVVWwllf",
        "outputId": "28f0e4a6-508f-4bb3-8023-d8c70887598c"
      },
      "outputs": [
        {
          "output_type": "execute_result",
          "data": {
            "text/plain": [
              "5.8"
            ]
          },
          "metadata": {},
          "execution_count": 58
        }
      ],
      "source": [
        "bowl_price = panda_express_pricing[\"Bowl\"]\n",
        "bowl_price"
      ]
    },
    {
      "cell_type": "markdown",
      "metadata": {
        "id": "GY4u-23ewllf"
      },
      "source": [
        "Be careful to not index a key that doesn't exist in the dictionary because that will cause an error.\n",
        "\n",
        "If you are not sure whether a key is in the dictionary or not, use the [get](https://www.w3schools.com/python/ref_dictionary_get.asp) method to be safe."
      ]
    },
    {
      "cell_type": "code",
      "execution_count": null,
      "metadata": {
        "colab": {
          "base_uri": "https://localhost:8080/",
          "height": 159
        },
        "id": "gJDzY7b-wllf",
        "outputId": "8cf01702-cb8c-4b7c-dfb1-fa12fd61ac39"
      },
      "outputs": [
        {
          "output_type": "error",
          "ename": "KeyError",
          "evalue": "'Buffet'",
          "traceback": [
            "\u001b[0;31m---------------------------------------------------------------------------\u001b[0m",
            "\u001b[0;31mKeyError\u001b[0m                                  Traceback (most recent call last)",
            "\u001b[0;32m<ipython-input-59-4fd6002bae93>\u001b[0m in \u001b[0;36m<cell line: 0>\u001b[0;34m()\u001b[0m\n\u001b[1;32m      1\u001b[0m \u001b[0;31m# try to eat buffet at Panda express\u001b[0m\u001b[0;34m\u001b[0m\u001b[0;34m\u001b[0m\u001b[0m\n\u001b[0;32m----> 2\u001b[0;31m \u001b[0mbuffet_price\u001b[0m \u001b[0;34m=\u001b[0m \u001b[0mpanda_express_pricing\u001b[0m\u001b[0;34m[\u001b[0m\u001b[0;34m\"Buffet\"\u001b[0m\u001b[0;34m]\u001b[0m\u001b[0;34m\u001b[0m\u001b[0;34m\u001b[0m\u001b[0m\n\u001b[0m",
            "\u001b[0;31mKeyError\u001b[0m: 'Buffet'"
          ]
        }
      ],
      "source": [
        "# try to eat buffet at Panda express\n",
        "buffet_price = panda_express_pricing[\"Buffet\"]"
      ]
    },
    {
      "cell_type": "markdown",
      "metadata": {
        "id": "LQUoVdiTwllf"
      },
      "source": [
        "It follows that you can change the value associated with a key.\n"
      ]
    },
    {
      "cell_type": "code",
      "execution_count": null,
      "metadata": {
        "colab": {
          "base_uri": "https://localhost:8080/"
        },
        "id": "WjK20hB5wllg",
        "outputId": "79f68ef3-17b6-4d6d-dfed-9bf6053be246"
      },
      "outputs": [
        {
          "output_type": "execute_result",
          "data": {
            "text/plain": [
              "5.0"
            ]
          },
          "metadata": {},
          "execution_count": 60
        }
      ],
      "source": [
        "# let's say Panda Express has a sale on the bowls\n",
        "panda_express_pricing[\"Bowl\"] = 5.00\n",
        "bowl_price = panda_express_pricing[\"Bowl\"]\n",
        "bowl_price"
      ]
    },
    {
      "cell_type": "markdown",
      "metadata": {
        "id": "W3fkY4sRwllg"
      },
      "source": [
        "There is, however, no easy way to modify the key associated with a value."
      ]
    },
    {
      "cell_type": "code",
      "execution_count": null,
      "metadata": {
        "id": "QJt8di9Awllh"
      },
      "outputs": [],
      "source": [
        "# You can see a list of all the keys in a dictionary\n",
        "panda_express_pricing.keys()"
      ]
    },
    {
      "cell_type": "code",
      "execution_count": null,
      "metadata": {
        "id": "mfxADKp2wllh"
      },
      "outputs": [],
      "source": [
        "# Or a list of all values\n",
        "panda_express_pricing.values()"
      ]
    },
    {
      "cell_type": "code",
      "execution_count": null,
      "metadata": {
        "id": "bRZxyaQewllh"
      },
      "outputs": [],
      "source": [
        "# Or a list of key value pairs, represented as tuples\n",
        "panda_express_pricing.items()"
      ]
    },
    {
      "cell_type": "markdown",
      "metadata": {
        "id": "DGe12mymwllh"
      },
      "source": [
        "See everything you can do with dictionaries [here](https://www.w3schools.com/python/python_ref_dictionary.asp)."
      ]
    },
    {
      "cell_type": "markdown",
      "metadata": {
        "id": "tyeZsFmXwllh"
      },
      "source": [
        "##### 1.2.3 Set"
      ]
    },
    {
      "cell_type": "markdown",
      "metadata": {
        "id": "7Ao_cQYjwllh"
      },
      "source": [
        "Sets store unique elements."
      ]
    },
    {
      "cell_type": "code",
      "execution_count": null,
      "metadata": {
        "colab": {
          "base_uri": "https://localhost:8080/"
        },
        "id": "SomKuNc8wllh",
        "outputId": "489f4ff5-14b8-4021-ff31-c983a01fc4e2"
      },
      "outputs": [
        {
          "output_type": "execute_result",
          "data": {
            "text/plain": [
              "{1, 2, 3}"
            ]
          },
          "metadata": {},
          "execution_count": 61
        }
      ],
      "source": [
        "# You can only create sets with set(); (), [], {} are all taken\n",
        "\n",
        "s = set([1,2,3,1,2,3])\n",
        "s"
      ]
    },
    {
      "cell_type": "code",
      "execution_count": null,
      "metadata": {
        "colab": {
          "base_uri": "https://localhost:8080/"
        },
        "id": "JWYKE1V_wllh",
        "outputId": "bf804fd2-86d6-4ee6-c0f0-697ddc5b7831"
      },
      "outputs": [
        {
          "output_type": "execute_result",
          "data": {
            "text/plain": [
              "{1, 2, 3, 4}"
            ]
          },
          "metadata": {},
          "execution_count": 62
        }
      ],
      "source": [
        "# Add new elements to a set\n",
        "s.add(3)\n",
        "s.add(4)\n",
        "s"
      ]
    },
    {
      "cell_type": "code",
      "execution_count": null,
      "metadata": {
        "id": "r98kiRowwllh"
      },
      "outputs": [],
      "source": [
        "# Remove elements in the set\n",
        "s.discard(1)\n",
        "s.discard(2)"
      ]
    },
    {
      "cell_type": "markdown",
      "metadata": {
        "id": "a0f3pNtGwlli"
      },
      "source": [
        "There are many set operations that can be performed between two sets. We will not go into them here. You can see a list on this [page](https://www.w3schools.com/python/python_ref_set.asp)."
      ]
    },
    {
      "cell_type": "markdown",
      "metadata": {
        "id": "na1OGWg-wlli"
      },
      "source": [
        "#### 1.2.4 Container Utilities"
      ]
    },
    {
      "cell_type": "markdown",
      "metadata": {
        "id": "YdvCGFhdwlli"
      },
      "source": [
        "You can use `len()` to find the number of items in each of the above four containers."
      ]
    },
    {
      "cell_type": "code",
      "execution_count": null,
      "metadata": {
        "id": "5tl63dHdwlli"
      },
      "outputs": [],
      "source": [
        "l = [1,2,3]\n",
        "t = (1,2,3)\n",
        "d = {1:'a', 2:'b', 3:'c'}\n",
        "s = set([1, 2, 3])\n",
        "\n",
        "print(len(l), len(t), len(d), len(s))"
      ]
    },
    {
      "cell_type": "markdown",
      "metadata": {
        "id": "9HazpZ-Pwlli"
      },
      "source": [
        "And use the `in` keyword to check if an element is in the container or not.\n",
        "\n",
        "For dictionaries, you can only use this to check whether a key is in the dictionary or not."
      ]
    },
    {
      "cell_type": "code",
      "execution_count": null,
      "metadata": {
        "id": "3xvsqEzRwlli"
      },
      "outputs": [],
      "source": [
        "print(1 in l)\n",
        "print(4 in t)\n",
        "print(2 in d)\n",
        "print(0 in s)"
      ]
    },
    {
      "cell_type": "markdown",
      "metadata": {
        "id": "IffBZotfwllj"
      },
      "source": [
        "## 2. Control Flow"
      ]
    },
    {
      "cell_type": "markdown",
      "metadata": {
        "id": "nxfw2KWUwllj"
      },
      "source": [
        "You can use `if` statements to execute different actions in different scenarios.\n",
        "\n",
        "Before we dive in, a quick aside on comparing numbers:\n",
        "- Use `==` to check equality\n",
        "- Use `!=` to check inequality\n",
        "- Use `<`, `>`, `>=`, and `<=` to compare two numbers"
      ]
    },
    {
      "cell_type": "code",
      "execution_count": null,
      "metadata": {
        "colab": {
          "base_uri": "https://localhost:8080/"
        },
        "id": "g7Gk_X0ewllj",
        "outputId": "88841c64-8070-41a6-f475-3156d2f1efea"
      },
      "outputs": [
        {
          "output_type": "stream",
          "name": "stdout",
          "text": [
            "The first block of code is executed\n"
          ]
        }
      ],
      "source": [
        "# Here is the general idea of if statements\n",
        "# if (condition evalutes to true):\n",
        "#   execute code here\n",
        "\n",
        "to_print_or_not_to_print = True\n",
        "\n",
        "if to_print_or_not_to_print:\n",
        "    # Most code editors will automatically indent the lines inside an if statement for you\n",
        "    # It doesn't matter whether you use tabs or spaces to indent or how much you indent (two or four spaces are common)\n",
        "    # Just be consistent! Your code will not work without consistent indentation!\n",
        "\n",
        "    print(\"The first block of code is executed\")\n",
        "\n",
        "to_print_or_not_to_print = False\n",
        "\n",
        "if to_print_or_not_to_print:\n",
        "    print(\"The second block of code is executed\")\n"
      ]
    },
    {
      "cell_type": "markdown",
      "metadata": {
        "id": "_gzXpu-Awllk"
      },
      "source": [
        "We can use more complex conditions for `if` statements."
      ]
    },
    {
      "cell_type": "code",
      "execution_count": null,
      "metadata": {
        "colab": {
          "base_uri": "https://localhost:8080/"
        },
        "id": "36c4AxMNwllk",
        "outputId": "b6c76a4c-9cc4-4241-bcc0-4a37ed0b3ac6"
      },
      "outputs": [
        {
          "output_type": "stream",
          "name": "stdout",
          "text": [
            "The first block of code is executed\n",
            "The second block of code is executed\n"
          ]
        }
      ],
      "source": [
        "if 4 < 5 and 6 >= 6 and len(list(range(3))) == 3:\n",
        "    print(\"The first block of code is executed\")\n",
        "\n",
        "if 4 != 4 or 6 > 7 or -1 < 0:\n",
        "    print(\"The second block of code is executed\")"
      ]
    },
    {
      "cell_type": "markdown",
      "metadata": {
        "id": "DkJw8WqIwllk"
      },
      "source": [
        "An `if ... else` scheme can handle both when the condition is true and false."
      ]
    },
    {
      "cell_type": "code",
      "execution_count": null,
      "metadata": {
        "colab": {
          "base_uri": "https://localhost:8080/"
        },
        "id": "FI2j8j6Fwlll",
        "outputId": "33440fa6-4987-494c-ee3f-3fd059557424"
      },
      "outputs": [
        {
          "output_type": "stream",
          "name": "stdout",
          "text": [
            "printing\n",
            "not printing\n"
          ]
        }
      ],
      "source": [
        "to_print_or_not_to_print = True\n",
        "\n",
        "if to_print_or_not_to_print:\n",
        "    # indented\n",
        "    print(\"printing\")\n",
        "# unindented\n",
        "else:\n",
        "    # indented\n",
        "    print(\"not printing\")\n",
        "\n",
        "to_print_or_not_to_print = False\n",
        "\n",
        "if to_print_or_not_to_print:\n",
        "    print(\"printing\")\n",
        "else:\n",
        "    print(\"not printing\")"
      ]
    },
    {
      "cell_type": "markdown",
      "metadata": {
        "id": "RPF6FR9ywlll"
      },
      "source": [
        "`if ... elif ... else` schemes can handle many different scenarios.\n",
        "\n",
        "You can have `elif` without `else` but all `elif` must appear before `else`."
      ]
    },
    {
      "cell_type": "code",
      "execution_count": null,
      "metadata": {
        "colab": {
          "base_uri": "https://localhost:8080/"
        },
        "id": "-YwJtgH3wlll",
        "outputId": "828333a8-9edb-4252-9f64-fba20431911b"
      },
      "outputs": [
        {
          "output_type": "stream",
          "name": "stdout",
          "text": [
            "Long\n"
          ]
        }
      ],
      "source": [
        "uniqname = \"ENTER YOUR UNIQNAME HERE\"\n",
        "\n",
        "if len(uniqname) <= 4:\n",
        "    print(\"Short\")\n",
        "elif len(uniqname) < 8:\n",
        "    print(\"Medium\")\n",
        "else:\n",
        "    print(\"Long\")"
      ]
    },
    {
      "cell_type": "markdown",
      "metadata": {
        "id": "wb8jVB2Vwlll"
      },
      "source": [
        "## 3. Iterating"
      ]
    },
    {
      "cell_type": "markdown",
      "metadata": {
        "id": "KruEAFCSwllm"
      },
      "source": [
        "### 3.0 For Loops"
      ]
    },
    {
      "cell_type": "markdown",
      "metadata": {
        "id": "sWgJeufDwllm"
      },
      "source": [
        "Lists, tuples, sets, dictionaries, strings, and ranges are all *iterables*. That just means we can move through them in a certain order.\n",
        "\n",
        "This property is useful for simplifying repeated actions."
      ]
    },
    {
      "cell_type": "markdown",
      "metadata": {
        "id": "AsP_PFkmwllm"
      },
      "source": [
        "Say we have a list of numbers and we want to print each of them, doubled.\n",
        "\n",
        "We can use the index to access, multiply, and print each of them but that's inefficient.\n",
        "\n",
        "For loops to the rescue."
      ]
    },
    {
      "cell_type": "code",
      "execution_count": null,
      "metadata": {
        "colab": {
          "base_uri": "https://localhost:8080/"
        },
        "id": "U8fmik0Ywllm",
        "outputId": "64864b13-3038-4127-b8fa-49aa1bab1073"
      },
      "outputs": [
        {
          "output_type": "stream",
          "name": "stdout",
          "text": [
            "0\n",
            "2\n",
            "4\n",
            "6\n",
            "8\n"
          ]
        }
      ],
      "source": [
        "nums = list(range(5))\n",
        "\n",
        "for num in nums:\n",
        "    print(num*2)\n"
      ]
    },
    {
      "cell_type": "code",
      "execution_count": null,
      "metadata": {
        "id": "ybEZQGutwllm"
      },
      "outputs": [],
      "source": [
        "# What is actually going on here?\n",
        "#\n",
        "# in nums specifies the iterable to go through, nums in this case\n",
        "# num is what is called an iterator. i, j, and k are common iterator names but num makes more sense here\n",
        "#\n",
        "# for num in nums:\n",
        "#     indent!\n",
        "#     num is set to an element in the nums list and the action is executed\n",
        "#     print(num*2)\n",
        "#     num is set to the next element in the nums list\n",
        "#\n",
        "# in this case, we iterated through the elements of the list"
      ]
    },
    {
      "cell_type": "code",
      "execution_count": null,
      "metadata": {
        "id": "nrcYF1CQwlln"
      },
      "outputs": [],
      "source": [
        "# Another common pattern is to iterate through the indices\n",
        "# let's print out the indices that has an even number on them\n",
        "\n",
        "for i in range(len(nums)):\n",
        "    # range(len(nums)) gives all the indices in the nums list\n",
        "    # nums has 5 elements so range(len(nums)) looks like 0, 1, 2, 3, 4\n",
        "    # you will see this all the time in for loops\n",
        "\n",
        "    if nums[i] % 2 == 0:\n",
        "        print(i)"
      ]
    },
    {
      "cell_type": "markdown",
      "metadata": {
        "id": "sdzhxXKswlln"
      },
      "source": [
        "One more example:\n",
        "\n",
        "Make a new list containing the items in nums squared.\n"
      ]
    },
    {
      "cell_type": "code",
      "execution_count": null,
      "metadata": {
        "colab": {
          "base_uri": "https://localhost:8080/"
        },
        "id": "XzEsN41jwllo",
        "outputId": "df77e417-4bae-4729-b88e-707a6ef8cd38"
      },
      "outputs": [
        {
          "output_type": "execute_result",
          "data": {
            "text/plain": [
              "[0, 1, 4, 9, 16]"
            ]
          },
          "metadata": {},
          "execution_count": 69
        }
      ],
      "source": [
        "squared_nums = []\n",
        "\n",
        "for num in nums:\n",
        "    squared_nums.append(num ** 2)\n",
        "\n",
        "squared_nums"
      ]
    },
    {
      "cell_type": "markdown",
      "metadata": {
        "id": "MO2vK-3Ywllo"
      },
      "source": [
        "Sometimes it is useful to iterate through both the element and index at the same time.\n",
        "\n",
        "Look into [`enumerate`](https://realpython.com/python-enumerate/)."
      ]
    },
    {
      "cell_type": "markdown",
      "metadata": {
        "id": "UFlcq8LHwllo"
      },
      "source": [
        "### 3.1. List Comprehension (Optional)"
      ]
    },
    {
      "cell_type": "markdown",
      "metadata": {
        "id": "NWKfOKmywllo"
      },
      "source": [
        "Here we present a nice feature of Python that allows creating lists using a shorthand of for loops."
      ]
    },
    {
      "cell_type": "code",
      "execution_count": null,
      "metadata": {
        "id": "o3ohkOHuwllo"
      },
      "outputs": [],
      "source": [
        "# every letter in MDST\n",
        "letters = [letter for letter in \"MDST\"]\n",
        "letters"
      ]
    },
    {
      "cell_type": "code",
      "execution_count": null,
      "metadata": {
        "id": "d0rW2Q2Kwllp"
      },
      "outputs": [],
      "source": [
        "# Modify the iterator\n",
        "# Let's redo the squared_nums example from the previous section\n",
        "\n",
        "squared_nums = [num**2 for num in nums]\n",
        "squared_nums"
      ]
    },
    {
      "cell_type": "code",
      "execution_count": null,
      "metadata": {
        "id": "uoViHSF6wllp"
      },
      "outputs": [],
      "source": [
        "# Modify the iterator differently based on some conditions\n",
        "# Square the number if it is even, else cube it\n",
        "\n",
        "squares_and_cubes = [num**2 if num % 2 == 0 else num**3 for num in nums]\n",
        "squares_and_cubes"
      ]
    },
    {
      "cell_type": "code",
      "execution_count": null,
      "metadata": {
        "id": "BiwueCoMwllp"
      },
      "outputs": [],
      "source": [
        "# Filter the iterator\n",
        "# Triple the number only if it is odd\n",
        "\n",
        "triples = [num*3 for num in nums if num % 2 == 1]\n",
        "triples"
      ]
    },
    {
      "cell_type": "code",
      "execution_count": null,
      "metadata": {
        "id": "QsdQhO5ewllq"
      },
      "outputs": [],
      "source": [
        "# chained comprehension\n",
        "# numbers from 1 to 20, in 3-number segments\n",
        "\n",
        "segments = [[i for i in range(start, start+3)] for start in range(0, 20, 3)]\n",
        "segments"
      ]
    },
    {
      "cell_type": "markdown",
      "metadata": {
        "id": "cJUIiTR3wllq"
      },
      "source": [
        "## 4. Functions"
      ]
    },
    {
      "cell_type": "markdown",
      "metadata": {
        "id": "YDre8IfYwllq"
      },
      "source": [
        "### 4.0 Import & Library"
      ]
    },
    {
      "cell_type": "markdown",
      "metadata": {
        "id": "7wVitP_4wllq"
      },
      "source": [
        "Libraries (aka packages) are codes that other people have developed for you to use. Python has tons of cool and interesting libraries.\n",
        "\n",
        "You can start using them in your notebooks with the `import` key word."
      ]
    },
    {
      "cell_type": "code",
      "execution_count": null,
      "metadata": {
        "id": "IhO1I8WBwllr"
      },
      "outputs": [],
      "source": [
        "# There is always a relevant xkcd\n",
        "\n",
        "import antigravity"
      ]
    },
    {
      "cell_type": "markdown",
      "metadata": {
        "id": "yvK3Kk5xwllr"
      },
      "source": [
        "Most libraries are more elaborate and contain many functionalities."
      ]
    },
    {
      "cell_type": "code",
      "execution_count": null,
      "metadata": {
        "colab": {
          "base_uri": "https://localhost:8080/"
        },
        "id": "pJv7eFCVwllr",
        "outputId": "3c8b31f5-d196-413e-ba05-0886baaa6145"
      },
      "outputs": [
        {
          "output_type": "execute_result",
          "data": {
            "text/plain": [
              "8"
            ]
          },
          "metadata": {},
          "execution_count": 71
        }
      ],
      "source": [
        "# Once a library is imported, you can start using the functions and methods they have\n",
        "import random\n",
        "random.randint(1, 10)"
      ]
    },
    {
      "cell_type": "code",
      "execution_count": null,
      "metadata": {
        "id": "INxfzcb0wllr"
      },
      "outputs": [],
      "source": [
        "# If you know what function you need, you can also import it specifically\n",
        "from random import randint\n",
        "\n",
        "# If you do it this way, you can use randint directly instead of typing out random.randint()\n",
        "\n",
        "randint(1, 10)"
      ]
    },
    {
      "cell_type": "code",
      "execution_count": null,
      "metadata": {
        "id": "qgR4bWcywlls"
      },
      "outputs": [],
      "source": [
        "# Sometimes function or library names are very long\n",
        "# You can use the as key word to rename imports\n",
        "\n",
        "from random import randrange as r\n",
        "\n",
        "r(1, 10)"
      ]
    },
    {
      "cell_type": "markdown",
      "metadata": {
        "id": "0eulfDFxwlls"
      },
      "source": [
        "### 4.1 Built-in Function"
      ]
    },
    {
      "cell_type": "markdown",
      "metadata": {
        "id": "foaD9_opwlls"
      },
      "source": [
        "We present some more built-in functions that may be useful for completing the checkpoints.\n",
        "\n",
        "You can find documentation for all of them [here](https://docs.python.org/3/library/functions.html)."
      ]
    },
    {
      "cell_type": "code",
      "execution_count": null,
      "metadata": {
        "colab": {
          "base_uri": "https://localhost:8080/"
        },
        "id": "1gf5QUYOwllt",
        "outputId": "63601c41-8be4-427a-f70b-b06ccac5bd2e"
      },
      "outputs": [
        {
          "output_type": "execute_result",
          "data": {
            "text/plain": [
              "5"
            ]
          },
          "metadata": {},
          "execution_count": 72
        }
      ],
      "source": [
        "max([3,4,5])"
      ]
    },
    {
      "cell_type": "code",
      "execution_count": null,
      "metadata": {
        "id": "WaKdkGsRwllt"
      },
      "outputs": [],
      "source": [
        "min([-3,3,9])"
      ]
    },
    {
      "cell_type": "code",
      "execution_count": null,
      "metadata": {
        "id": "09EGvq63wllt"
      },
      "outputs": [],
      "source": [
        "sum([1,3,5])"
      ]
    },
    {
      "cell_type": "code",
      "execution_count": null,
      "metadata": {
        "id": "V2-t2jFdwllt"
      },
      "outputs": [],
      "source": [
        "round(3.8)"
      ]
    },
    {
      "cell_type": "code",
      "execution_count": null,
      "metadata": {
        "id": "rkEHa2pAwllu"
      },
      "outputs": [],
      "source": [
        "round(3.36394, 3)"
      ]
    },
    {
      "cell_type": "code",
      "execution_count": null,
      "metadata": {
        "id": "IOaPD6SVwllu"
      },
      "outputs": [],
      "source": [
        "abs(-3)"
      ]
    },
    {
      "cell_type": "markdown",
      "metadata": {
        "id": "52mCiiGkwllu"
      },
      "source": [
        "### 4.2 Custom Function"
      ]
    },
    {
      "cell_type": "markdown",
      "metadata": {
        "id": "hfM6hlygwllu"
      },
      "source": [
        "Functions are great ways to reduce code duplication and repetition.\n",
        "\n",
        "Functions can be used to carry out specific actions. We will slowly build up to a function that outputs custom greeting messages."
      ]
    },
    {
      "cell_type": "markdown",
      "metadata": {
        "id": "6O-XcDWPwllv"
      },
      "source": [
        "Let's start by having the function just print \"Hi\"."
      ]
    },
    {
      "cell_type": "code",
      "execution_count": null,
      "metadata": {
        "id": "IXeQm_bawllw"
      },
      "outputs": [],
      "source": [
        "# The first line in a function is the function header. It starts with the def key word, followed by the function name\n",
        "def greet():\n",
        "    # Indent!\n",
        "    print(\"Hi\")\n",
        "\n",
        "greet()"
      ]
    },
    {
      "cell_type": "markdown",
      "metadata": {
        "id": "_pQtvoKVwllx"
      },
      "source": [
        "Not exactly a custom message. It would be nice if we can greet people by their names."
      ]
    },
    {
      "cell_type": "code",
      "execution_count": null,
      "metadata": {
        "id": "1_llMSjfwllx"
      },
      "outputs": [],
      "source": [
        "# We can shape a function's behavior by adding arguments. These appear in the parenthesis after the function name.\n",
        "# Note: the name on this line names an argument to the greet function\n",
        "def greet(name):\n",
        "    print(\"Hi \" + name)\n",
        "\n",
        "name = \"ENTER YOUR NAME HERE\"\n",
        "\n",
        "# Note: the name on this line refers to the name variable\n",
        "greet(name)"
      ]
    },
    {
      "cell_type": "markdown",
      "metadata": {
        "id": "Ybrb6Emuwllx"
      },
      "source": [
        "Maybe you are excited to see the person, in which case some exclamation marks are in order.\n",
        "\n",
        "Usually, 1 is good."
      ]
    },
    {
      "cell_type": "code",
      "execution_count": null,
      "metadata": {
        "id": "lH0BcdwGwllx"
      },
      "outputs": [],
      "source": [
        "# You can set default values for arguments. The function will use those defaults if the argument is not provided.\n",
        "# On the contrary, arguments without default values have to be specified\n",
        "def greet(name, num_exclamation=1):\n",
        "    print(\"Hi \" + name + '!'*num_exclamation)\n",
        "\n",
        "greet(name)"
      ]
    },
    {
      "cell_type": "code",
      "execution_count": null,
      "metadata": {
        "id": "1P8CWG31wllx"
      },
      "outputs": [],
      "source": [
        "# You can of course use different values for all your default arguments.\n",
        "# Python will try to match arguments using the order listed in the header\n",
        "greet(name, 3)\n",
        "\n",
        "# or you can mix up the order by referring to the arguments by their names\n",
        "greet(num_exclamation=2, name=name)"
      ]
    },
    {
      "cell_type": "markdown",
      "metadata": {
        "id": "1nXyoZEpwlly"
      },
      "source": [
        "Functions don't have to interface with users directly. They can also be used to perform computations and return the results."
      ]
    },
    {
      "cell_type": "code",
      "execution_count": null,
      "metadata": {
        "id": "_Wt4TXSGwlly"
      },
      "outputs": [],
      "source": [
        "def round_to_hundreds(num):\n",
        "    rounded = round(num / 100) * 100\n",
        "\n",
        "print(round_to_hundreds(168))"
      ]
    },
    {
      "cell_type": "markdown",
      "metadata": {
        "id": "bS3OsIfEwlly"
      },
      "source": [
        "Weird, we expected 2 but received `None`.\n",
        "\n",
        "This is because we forgot to get the function to make its output available for other parts of the program to use.\n",
        "\n",
        "In its current state, the output of the function (`rounded`) is inaccessible.\n",
        "\n",
        "This is where `return` comes into play."
      ]
    },
    {
      "cell_type": "code",
      "execution_count": null,
      "metadata": {
        "id": "m0ENIQLxwlly"
      },
      "outputs": [],
      "source": [
        "def round_to_hundreds(num):\n",
        "    rounded = round(num / 100) * 100\n",
        "\n",
        "    # returning is making the output available for other codes\n",
        "    return rounded\n",
        "\n",
        "print(round_to_hundreds(168))"
      ]
    },
    {
      "cell_type": "markdown",
      "metadata": {
        "id": "9eKFVIK6wlly"
      },
      "source": [
        "### 4.3 Lambda Function (Optional)"
      ]
    },
    {
      "cell_type": "markdown",
      "metadata": {
        "id": "IP42v1mbwllz"
      },
      "source": [
        "Lambda function is a shorthand way to write simple functions. It is useful in many context but you will find it a great help when you are performing data transformation."
      ]
    },
    {
      "cell_type": "code",
      "execution_count": null,
      "metadata": {
        "id": "Y5-ICEK2wllz"
      },
      "outputs": [],
      "source": [
        "# Let's define a function that applies or to two boolean values and return the opposite of that result\n",
        "def or_reverse(bool1, bool2):\n",
        "    return not (bool1 or bool2)\n",
        "\n",
        "or_reverse(True, False)"
      ]
    },
    {
      "cell_type": "code",
      "execution_count": null,
      "metadata": {
        "id": "4e1OiTAPwllz"
      },
      "outputs": [],
      "source": [
        "# This is how the same function will look in lambda notation\n",
        "lambda_or_reverse = lambda bool1, bool2: not (bool1 or bool2)\n",
        "\n",
        "lambda_or_reverse(True, False)"
      ]
    },
    {
      "cell_type": "markdown",
      "metadata": {
        "id": "J63jr4k7wllz"
      },
      "source": [
        "### 4.4 Type Hinting (Optional)\n",
        "\n",
        "Type hinting allows you to indicate the expected data types of variables, function arguments, and return values.\n",
        "\n",
        "They are optional annotations that makes Python easier to read and debug; type hinting is especially nice for keeping track of data types as your codebase gets larger."
      ]
    },
    {
      "cell_type": "code",
      "execution_count": null,
      "metadata": {
        "id": "mkrQxnGqwllz"
      },
      "outputs": [],
      "source": [
        "# These two variable assignments are equivalent:\n",
        "name = \"deckard\"\n",
        "name: str = \"deckard\"  # type hinted declaration (var_name: var_type)\n",
        "\n",
        "# Python is a dynamically typed language; it does not require the type of a variable to be declared, and a variable's type can change during runtime\n",
        "name = 26354\n",
        "print(type(name))  # <class 'int'>\n",
        "\n",
        "# Type hinting for functions follows a similar format. \"-> None\" indicates that there isn't anything to return\n",
        "def greet(name: str, num_exclamation: int = 1) -> None:\n",
        "    print(\"Hi \" + str(name) + '!'*num_exclamation)\n",
        "\n",
        "# For flexability, Python doesn't actually require passed argument types to match their respective annotated types\n",
        "greet(name)\n",
        "\n",
        "# This line, however, causes a TypeError inside of the function due to an unexpected type mismatch\n",
        "# greet(name, 1.00)"
      ]
    },
    {
      "cell_type": "code",
      "execution_count": null,
      "metadata": {
        "id": "8MCsTy6bwll5"
      },
      "outputs": [],
      "source": [
        "# the typing library can be used for more specific type hinting\n",
        "from typing import Any, Union, Optional, Callable\n",
        "\n",
        "\n",
        "# Container types can be annotated using square brackets\n",
        "list_of_ints: list[int] = [1, 2, 3]\n",
        "tuple_of_stuff: tuple[Any, Any] = (4.0, [5])\n",
        "\n",
        "\n",
        "# Union[] or | specify that a variable can be one of multiple specific types\n",
        "X_1: Union[int, float, bool] = 1.982\n",
        "X_2: Union[int, float, bool] = 61021\n",
        "X_3: int|float|bool = False\n",
        "\n",
        "# Optional[] specifies that a variable can also be None\n",
        "delivery_charge: Optional[int|float] = 3.99"
      ]
    },
    {
      "cell_type": "code",
      "execution_count": null,
      "metadata": {
        "id": "Qhy3OPkAwll5"
      },
      "outputs": [],
      "source": [
        "# This function returns a (int, float) tuple\n",
        "def cottage_inn_order(n_students: int, delivery_charge: Optional[int|float] = None) -> tuple[int, float]:\n",
        "    n_pizzas = (n_students // 32) + 1\n",
        "    subtotal = n_pizzas * 34.98\n",
        "\n",
        "    if delivery_charge is not None:\n",
        "        subtotal += delivery_charge\n",
        "\n",
        "    return n_pizzas, subtotal * 1.06\n",
        "\n",
        "# We can tell at a glance that this function expects a (int, float) tuple as input\n",
        "def print_pizza(info: tuple[int, float]) -> None:\n",
        "    print(info[0], \" pizzas, costing $\", round(info[1], 2), sep=\"\")\n",
        "\n",
        "print_pizza(cottage_inn_order(n_students = 150))\n",
        "\n",
        "# Callable specifies arguments that are functions, for precise hinting you can use Callable[[arg_types], return_type]\n",
        "def print_pizza(\n",
        "    n_students: int,\n",
        "    order_func: Callable = cottage_inn_order,\n",
        "    delivery_charge: Optional[int|float] = None\n",
        ") -> None:\n",
        "    info = order_func(n_students, delivery_charge)\n",
        "    print(info[0], \" pizzas, costing $\", round(info[1], 2), sep=\"\")\n",
        "\n",
        "print_pizza(150)"
      ]
    },
    {
      "cell_type": "markdown",
      "metadata": {
        "id": "yB7hOlVIwll5"
      },
      "source": [
        "## 5. Numpy"
      ]
    },
    {
      "cell_type": "markdown",
      "metadata": {
        "id": "v45F0ipLwll6"
      },
      "source": [
        "Numpy is short for *numerical python*, a library built for optimized operations on large arrays and matrices."
      ]
    },
    {
      "cell_type": "code",
      "execution_count": null,
      "metadata": {
        "id": "bhzKzmxEshti"
      },
      "outputs": [],
      "source": [
        "import numpy as np"
      ]
    },
    {
      "cell_type": "markdown",
      "metadata": {
        "id": "H28knoaeshtk"
      },
      "source": [
        "### 5.0 Array"
      ]
    },
    {
      "cell_type": "markdown",
      "metadata": {
        "id": "7QTIJPtRwll7"
      },
      "source": [
        "Numpy arrays can be created from a Python list."
      ]
    },
    {
      "cell_type": "code",
      "execution_count": null,
      "metadata": {
        "colab": {
          "base_uri": "https://localhost:8080/"
        },
        "id": "bxenjHiVshtl",
        "outputId": "8fc4ad62-95b5-47a8-e600-cb8835e79c61"
      },
      "outputs": [
        {
          "output_type": "execute_result",
          "data": {
            "text/plain": [
              "array([1, 2, 3, 4, 5, 6])"
            ]
          },
          "metadata": {},
          "execution_count": 75
        }
      ],
      "source": [
        "a = [1,2,3,4,5,6]\n",
        "b = np.array(a)\n",
        "b"
      ]
    },
    {
      "cell_type": "markdown",
      "metadata": {
        "id": "JEpNmBNBshtn"
      },
      "source": [
        "Right now, it looks an awful like a python list, but there are some key differences you should be aware of.\n",
        "\n",
        "Numpy arrays are:\n",
        "- homogeneous (all elements in an array have the same type)\n",
        "- multidimensional"
      ]
    },
    {
      "cell_type": "code",
      "execution_count": null,
      "metadata": {
        "id": "SHuivX63shtn"
      },
      "outputs": [],
      "source": [
        "# Homogeneous: all numpy arrays have an associated data type\n",
        "# numbers are usually ints or floats\n",
        "b.dtype"
      ]
    },
    {
      "cell_type": "code",
      "execution_count": null,
      "metadata": {
        "id": "fpW_SbqKshtp"
      },
      "outputs": [],
      "source": [
        "# Multidimensional: numpy arrays can have arbitrarily many dimensions\n",
        "# We can reshape b into a 3x2 matrix. This means 3 rows and 2 columns\n",
        "# Note: this doesn't change b. That's why we assign it to a new variable: m\n",
        "m = b.reshape(3, 2)\n",
        "m"
      ]
    },
    {
      "cell_type": "code",
      "execution_count": null,
      "metadata": {
        "id": "Bu9Tt2lyshtr"
      },
      "outputs": [],
      "source": [
        "# Each dimension is called an axis\n",
        "# The size across each axis is called the shape\n",
        "# These are two very important concepts!\n",
        "m.shape"
      ]
    },
    {
      "cell_type": "code",
      "execution_count": null,
      "metadata": {
        "id": "KrvOFAOPwll8"
      },
      "outputs": [],
      "source": [
        "# One numpy function worth highlighting is transpose\n",
        "# Essentially, the first row becomes the first column, the second row becomes the second column etc.\n",
        "\n",
        "m = m.transpose()\n",
        "m"
      ]
    },
    {
      "cell_type": "markdown",
      "metadata": {
        "id": "WfYP11qxsht7"
      },
      "source": [
        "### 5.1 Math"
      ]
    },
    {
      "cell_type": "markdown",
      "metadata": {
        "id": "HbhRMa72wll8"
      },
      "source": [
        "Numpy gives us a lot of math functions to work with. You can find them all in the [documentation](https://numpy.org/doc/stable/reference/routines.math.html)."
      ]
    },
    {
      "cell_type": "code",
      "execution_count": null,
      "metadata": {
        "id": "ajGfySfqsht8"
      },
      "outputs": [],
      "source": [
        "np.sum(b)"
      ]
    },
    {
      "cell_type": "code",
      "execution_count": null,
      "metadata": {
        "id": "2HHhw_UIsht9"
      },
      "outputs": [],
      "source": [
        "np.mean(b)"
      ]
    },
    {
      "cell_type": "code",
      "execution_count": null,
      "metadata": {
        "id": "a6BAGkPFwll9"
      },
      "outputs": [],
      "source": [
        "# for convenience, you can also call\n",
        "b.mean()"
      ]
    },
    {
      "cell_type": "markdown",
      "metadata": {
        "id": "UfQofFk8wll-"
      },
      "source": [
        "You can also apply these functions by axis.\n",
        "\n",
        "In general, `axis=0` means to operate by rows and `axis=1` means to operate by columns."
      ]
    },
    {
      "cell_type": "code",
      "execution_count": null,
      "metadata": {
        "id": "cEncBjsYshuA"
      },
      "outputs": [],
      "source": [
        "# summing by rows\n",
        "print(np.sum(m, axis=0))\n",
        "\n",
        "# summing by columns\n",
        "print(np.sum(m, axis=1))\n"
      ]
    },
    {
      "cell_type": "code",
      "execution_count": null,
      "metadata": {
        "id": "3blIPXMAwll-"
      },
      "outputs": [],
      "source": [
        "# Unlike a regular list, you can do arithmetic on numpy arrays directly\n",
        "# In most cases, numpy will apply the arithmetic operations to each element\n",
        "\n",
        "print(m*3)\n",
        "print(m+3)\n",
        "print(np.power(m,2))"
      ]
    },
    {
      "cell_type": "markdown",
      "metadata": {
        "id": "dzrB3i3Nwll-"
      },
      "source": [
        "## 6. Pandas"
      ]
    },
    {
      "cell_type": "markdown",
      "metadata": {
        "id": "NDDbE5pEwll_"
      },
      "source": [
        "Pandas is another Python library which we will be using _a lot!_ It lets us handle data in tabular format and is well integrated with other libraries for plotting, machine learning, etc."
      ]
    },
    {
      "cell_type": "code",
      "execution_count": 83,
      "metadata": {
        "id": "kFReInatshuE"
      },
      "outputs": [],
      "source": [
        "import pandas as pd"
      ]
    },
    {
      "cell_type": "markdown",
      "metadata": {
        "id": "rwfjdq2kshuF"
      },
      "source": [
        "### 6.0 Dataframes & Series"
      ]
    },
    {
      "cell_type": "markdown",
      "metadata": {
        "id": "nDy01HlXwll_"
      },
      "source": [
        "Pandas puts data into dataframes, which are made up of series."
      ]
    },
    {
      "cell_type": "code",
      "execution_count": 85,
      "metadata": {
        "colab": {
          "base_uri": "https://localhost:8080/",
          "height": 339
        },
        "id": "oQmdbMiOshuG",
        "outputId": "8915f1c5-38fc-4b14-db28-44caedbe7c29"
      },
      "outputs": [
        {
          "output_type": "error",
          "ename": "FileNotFoundError",
          "evalue": "[Errno 2] No such file or directory: '../data/cereal.csv'",
          "traceback": [
            "\u001b[0;31m---------------------------------------------------------------------------\u001b[0m",
            "\u001b[0;31mFileNotFoundError\u001b[0m                         Traceback (most recent call last)",
            "\u001b[0;32m<ipython-input-85-a31f0fc90a47>\u001b[0m in \u001b[0;36m<cell line: 0>\u001b[0;34m()\u001b[0m\n\u001b[1;32m      1\u001b[0m \u001b[0;31m# here, we're reading in data from a 'csv', or comma-separated value, file\u001b[0m\u001b[0;34m\u001b[0m\u001b[0;34m\u001b[0m\u001b[0m\n\u001b[0;32m----> 2\u001b[0;31m \u001b[0mdf\u001b[0m \u001b[0;34m=\u001b[0m \u001b[0mpd\u001b[0m\u001b[0;34m.\u001b[0m\u001b[0mread_csv\u001b[0m\u001b[0;34m(\u001b[0m\u001b[0;34m\"../data/cereal.csv\"\u001b[0m\u001b[0;34m)\u001b[0m\u001b[0;34m\u001b[0m\u001b[0;34m\u001b[0m\u001b[0m\n\u001b[0m\u001b[1;32m      3\u001b[0m \u001b[0mtype\u001b[0m\u001b[0;34m(\u001b[0m\u001b[0mdf\u001b[0m\u001b[0;34m)\u001b[0m\u001b[0;34m\u001b[0m\u001b[0;34m\u001b[0m\u001b[0m\n",
            "\u001b[0;32m/usr/local/lib/python3.11/dist-packages/pandas/io/parsers/readers.py\u001b[0m in \u001b[0;36mread_csv\u001b[0;34m(filepath_or_buffer, sep, delimiter, header, names, index_col, usecols, dtype, engine, converters, true_values, false_values, skipinitialspace, skiprows, skipfooter, nrows, na_values, keep_default_na, na_filter, verbose, skip_blank_lines, parse_dates, infer_datetime_format, keep_date_col, date_parser, date_format, dayfirst, cache_dates, iterator, chunksize, compression, thousands, decimal, lineterminator, quotechar, quoting, doublequote, escapechar, comment, encoding, encoding_errors, dialect, on_bad_lines, delim_whitespace, low_memory, memory_map, float_precision, storage_options, dtype_backend)\u001b[0m\n\u001b[1;32m   1024\u001b[0m     \u001b[0mkwds\u001b[0m\u001b[0;34m.\u001b[0m\u001b[0mupdate\u001b[0m\u001b[0;34m(\u001b[0m\u001b[0mkwds_defaults\u001b[0m\u001b[0;34m)\u001b[0m\u001b[0;34m\u001b[0m\u001b[0;34m\u001b[0m\u001b[0m\n\u001b[1;32m   1025\u001b[0m \u001b[0;34m\u001b[0m\u001b[0m\n\u001b[0;32m-> 1026\u001b[0;31m     \u001b[0;32mreturn\u001b[0m \u001b[0m_read\u001b[0m\u001b[0;34m(\u001b[0m\u001b[0mfilepath_or_buffer\u001b[0m\u001b[0;34m,\u001b[0m \u001b[0mkwds\u001b[0m\u001b[0;34m)\u001b[0m\u001b[0;34m\u001b[0m\u001b[0;34m\u001b[0m\u001b[0m\n\u001b[0m\u001b[1;32m   1027\u001b[0m \u001b[0;34m\u001b[0m\u001b[0m\n\u001b[1;32m   1028\u001b[0m \u001b[0;34m\u001b[0m\u001b[0m\n",
            "\u001b[0;32m/usr/local/lib/python3.11/dist-packages/pandas/io/parsers/readers.py\u001b[0m in \u001b[0;36m_read\u001b[0;34m(filepath_or_buffer, kwds)\u001b[0m\n\u001b[1;32m    618\u001b[0m \u001b[0;34m\u001b[0m\u001b[0m\n\u001b[1;32m    619\u001b[0m     \u001b[0;31m# Create the parser.\u001b[0m\u001b[0;34m\u001b[0m\u001b[0;34m\u001b[0m\u001b[0m\n\u001b[0;32m--> 620\u001b[0;31m     \u001b[0mparser\u001b[0m \u001b[0;34m=\u001b[0m \u001b[0mTextFileReader\u001b[0m\u001b[0;34m(\u001b[0m\u001b[0mfilepath_or_buffer\u001b[0m\u001b[0;34m,\u001b[0m \u001b[0;34m**\u001b[0m\u001b[0mkwds\u001b[0m\u001b[0;34m)\u001b[0m\u001b[0;34m\u001b[0m\u001b[0;34m\u001b[0m\u001b[0m\n\u001b[0m\u001b[1;32m    621\u001b[0m \u001b[0;34m\u001b[0m\u001b[0m\n\u001b[1;32m    622\u001b[0m     \u001b[0;32mif\u001b[0m \u001b[0mchunksize\u001b[0m \u001b[0;32mor\u001b[0m \u001b[0miterator\u001b[0m\u001b[0;34m:\u001b[0m\u001b[0;34m\u001b[0m\u001b[0;34m\u001b[0m\u001b[0m\n",
            "\u001b[0;32m/usr/local/lib/python3.11/dist-packages/pandas/io/parsers/readers.py\u001b[0m in \u001b[0;36m__init__\u001b[0;34m(self, f, engine, **kwds)\u001b[0m\n\u001b[1;32m   1618\u001b[0m \u001b[0;34m\u001b[0m\u001b[0m\n\u001b[1;32m   1619\u001b[0m         \u001b[0mself\u001b[0m\u001b[0;34m.\u001b[0m\u001b[0mhandles\u001b[0m\u001b[0;34m:\u001b[0m \u001b[0mIOHandles\u001b[0m \u001b[0;34m|\u001b[0m \u001b[0;32mNone\u001b[0m \u001b[0;34m=\u001b[0m \u001b[0;32mNone\u001b[0m\u001b[0;34m\u001b[0m\u001b[0;34m\u001b[0m\u001b[0m\n\u001b[0;32m-> 1620\u001b[0;31m         \u001b[0mself\u001b[0m\u001b[0;34m.\u001b[0m\u001b[0m_engine\u001b[0m \u001b[0;34m=\u001b[0m \u001b[0mself\u001b[0m\u001b[0;34m.\u001b[0m\u001b[0m_make_engine\u001b[0m\u001b[0;34m(\u001b[0m\u001b[0mf\u001b[0m\u001b[0;34m,\u001b[0m \u001b[0mself\u001b[0m\u001b[0;34m.\u001b[0m\u001b[0mengine\u001b[0m\u001b[0;34m)\u001b[0m\u001b[0;34m\u001b[0m\u001b[0;34m\u001b[0m\u001b[0m\n\u001b[0m\u001b[1;32m   1621\u001b[0m \u001b[0;34m\u001b[0m\u001b[0m\n\u001b[1;32m   1622\u001b[0m     \u001b[0;32mdef\u001b[0m \u001b[0mclose\u001b[0m\u001b[0;34m(\u001b[0m\u001b[0mself\u001b[0m\u001b[0;34m)\u001b[0m \u001b[0;34m->\u001b[0m \u001b[0;32mNone\u001b[0m\u001b[0;34m:\u001b[0m\u001b[0;34m\u001b[0m\u001b[0;34m\u001b[0m\u001b[0m\n",
            "\u001b[0;32m/usr/local/lib/python3.11/dist-packages/pandas/io/parsers/readers.py\u001b[0m in \u001b[0;36m_make_engine\u001b[0;34m(self, f, engine)\u001b[0m\n\u001b[1;32m   1878\u001b[0m                 \u001b[0;32mif\u001b[0m \u001b[0;34m\"b\"\u001b[0m \u001b[0;32mnot\u001b[0m \u001b[0;32min\u001b[0m \u001b[0mmode\u001b[0m\u001b[0;34m:\u001b[0m\u001b[0;34m\u001b[0m\u001b[0;34m\u001b[0m\u001b[0m\n\u001b[1;32m   1879\u001b[0m                     \u001b[0mmode\u001b[0m \u001b[0;34m+=\u001b[0m \u001b[0;34m\"b\"\u001b[0m\u001b[0;34m\u001b[0m\u001b[0;34m\u001b[0m\u001b[0m\n\u001b[0;32m-> 1880\u001b[0;31m             self.handles = get_handle(\n\u001b[0m\u001b[1;32m   1881\u001b[0m                 \u001b[0mf\u001b[0m\u001b[0;34m,\u001b[0m\u001b[0;34m\u001b[0m\u001b[0;34m\u001b[0m\u001b[0m\n\u001b[1;32m   1882\u001b[0m                 \u001b[0mmode\u001b[0m\u001b[0;34m,\u001b[0m\u001b[0;34m\u001b[0m\u001b[0;34m\u001b[0m\u001b[0m\n",
            "\u001b[0;32m/usr/local/lib/python3.11/dist-packages/pandas/io/common.py\u001b[0m in \u001b[0;36mget_handle\u001b[0;34m(path_or_buf, mode, encoding, compression, memory_map, is_text, errors, storage_options)\u001b[0m\n\u001b[1;32m    871\u001b[0m         \u001b[0;32mif\u001b[0m \u001b[0mioargs\u001b[0m\u001b[0;34m.\u001b[0m\u001b[0mencoding\u001b[0m \u001b[0;32mand\u001b[0m \u001b[0;34m\"b\"\u001b[0m \u001b[0;32mnot\u001b[0m \u001b[0;32min\u001b[0m \u001b[0mioargs\u001b[0m\u001b[0;34m.\u001b[0m\u001b[0mmode\u001b[0m\u001b[0;34m:\u001b[0m\u001b[0;34m\u001b[0m\u001b[0;34m\u001b[0m\u001b[0m\n\u001b[1;32m    872\u001b[0m             \u001b[0;31m# Encoding\u001b[0m\u001b[0;34m\u001b[0m\u001b[0;34m\u001b[0m\u001b[0m\n\u001b[0;32m--> 873\u001b[0;31m             handle = open(\n\u001b[0m\u001b[1;32m    874\u001b[0m                 \u001b[0mhandle\u001b[0m\u001b[0;34m,\u001b[0m\u001b[0;34m\u001b[0m\u001b[0;34m\u001b[0m\u001b[0m\n\u001b[1;32m    875\u001b[0m                 \u001b[0mioargs\u001b[0m\u001b[0;34m.\u001b[0m\u001b[0mmode\u001b[0m\u001b[0;34m,\u001b[0m\u001b[0;34m\u001b[0m\u001b[0;34m\u001b[0m\u001b[0m\n",
            "\u001b[0;31mFileNotFoundError\u001b[0m: [Errno 2] No such file or directory: '../data/cereal.csv'"
          ]
        }
      ],
      "source": [
        "# here, we're reading in data from a 'csv', or comma-separated value, file\n",
        "df = pd.read_csv(\"../data/cereal.csv\")\n",
        "type(df)"
      ]
    },
    {
      "cell_type": "markdown",
      "metadata": {
        "id": "M0bidsLkwll_"
      },
      "source": [
        "A dataframe is like a table:"
      ]
    },
    {
      "cell_type": "code",
      "execution_count": null,
      "metadata": {
        "id": "O2AKTwK3wll_"
      },
      "outputs": [],
      "source": [
        "df"
      ]
    },
    {
      "cell_type": "markdown",
      "metadata": {
        "id": "jJ6ugHdZwll_"
      },
      "source": [
        "We can use `head()`, `tail()`, or `sample()` to take a look at the data."
      ]
    },
    {
      "cell_type": "code",
      "execution_count": null,
      "metadata": {
        "id": "wdxDQCS1shuI"
      },
      "outputs": [],
      "source": [
        "# head returns the first x rows of your specification in the dataframe. By default it returns the first 5\n",
        "# tail returns the last rows of the dataframe\n",
        "df.head(10)"
      ]
    },
    {
      "cell_type": "code",
      "execution_count": null,
      "metadata": {
        "id": "F3PkAoaZwll_"
      },
      "outputs": [],
      "source": [
        "df.sample()"
      ]
    },
    {
      "cell_type": "markdown",
      "metadata": {
        "id": "CLFvh8Sfwll_"
      },
      "source": [
        "You can also use `describe()` to get a feel of the distribution of numerical columns."
      ]
    },
    {
      "cell_type": "code",
      "execution_count": null,
      "metadata": {
        "id": "knb8O5Cnwll_"
      },
      "outputs": [],
      "source": [
        "df.describe()"
      ]
    },
    {
      "cell_type": "markdown",
      "metadata": {
        "id": "6maYzdezwll_"
      },
      "source": [
        "And use `.shape` and `.dtypes` to understand the property of the dataframe."
      ]
    },
    {
      "cell_type": "code",
      "execution_count": null,
      "metadata": {
        "id": "CUuq4g_Qwll_"
      },
      "outputs": [],
      "source": [
        "df.shape"
      ]
    },
    {
      "cell_type": "code",
      "execution_count": null,
      "metadata": {
        "id": "pT60JWu3wlmA"
      },
      "outputs": [],
      "source": [
        "# In Pandas, object can be a lot of things, such as strings in this case\n",
        "df.dtypes"
      ]
    },
    {
      "cell_type": "markdown",
      "metadata": {
        "id": "npRQEb5rwlmA"
      },
      "source": [
        "Each column is a pandas Series (pd.Series)."
      ]
    },
    {
      "cell_type": "code",
      "execution_count": null,
      "metadata": {
        "id": "D0RkFFaVshuK"
      },
      "outputs": [],
      "source": [
        "df[\"name\"]"
      ]
    },
    {
      "cell_type": "code",
      "execution_count": null,
      "metadata": {
        "id": "Ad0zvg5_shuL"
      },
      "outputs": [],
      "source": [
        "type(df[\"name\"])"
      ]
    },
    {
      "cell_type": "markdown",
      "metadata": {
        "id": "tkBUhVG3wlmB"
      },
      "source": [
        "Series are similar to numpy arrays in many ways. They are both homogenous and share many operations."
      ]
    },
    {
      "cell_type": "code",
      "execution_count": null,
      "metadata": {
        "id": "8NIKtwCcshuN"
      },
      "outputs": [],
      "source": [
        "df[\"carbo\"].mean()"
      ]
    },
    {
      "cell_type": "markdown",
      "metadata": {
        "id": "JbP-0t5WshuS"
      },
      "source": [
        "## 6.1 Indexing"
      ]
    },
    {
      "cell_type": "markdown",
      "metadata": {
        "id": "5b2m6UnywlmB"
      },
      "source": [
        "### 6.1.0 `loc` & `iloc`"
      ]
    },
    {
      "cell_type": "markdown",
      "metadata": {
        "id": "D8i6SIEhwlmC"
      },
      "source": [
        "The index in a pandas series/dataframe can by any list of **unique** values (row number, ID, time, etc.)"
      ]
    },
    {
      "cell_type": "markdown",
      "metadata": {
        "id": "zybPNQ_hwlmC"
      },
      "source": [
        "`iloc` is used to index by row number in a dataframe"
      ]
    },
    {
      "cell_type": "code",
      "execution_count": null,
      "metadata": {
        "colab": {
          "base_uri": "https://localhost:8080/",
          "height": 159
        },
        "id": "-vcZulmRshuT",
        "outputId": "99f37533-ff22-400c-9a8f-fe2eaf930263"
      },
      "outputs": [
        {
          "output_type": "error",
          "ename": "NameError",
          "evalue": "name 'df' is not defined",
          "traceback": [
            "\u001b[0;31m---------------------------------------------------------------------------\u001b[0m",
            "\u001b[0;31mNameError\u001b[0m                                 Traceback (most recent call last)",
            "\u001b[0;32m<ipython-input-77-1bd36bf94c0b>\u001b[0m in \u001b[0;36m<cell line: 0>\u001b[0;34m()\u001b[0m\n\u001b[1;32m      1\u001b[0m \u001b[0;31m# The first row of the dataframe\u001b[0m\u001b[0;34m\u001b[0m\u001b[0;34m\u001b[0m\u001b[0m\n\u001b[0;32m----> 2\u001b[0;31m \u001b[0mdf\u001b[0m\u001b[0;34m.\u001b[0m\u001b[0miloc\u001b[0m\u001b[0;34m[\u001b[0m\u001b[0;36m0\u001b[0m\u001b[0;34m]\u001b[0m\u001b[0;34m\u001b[0m\u001b[0;34m\u001b[0m\u001b[0m\n\u001b[0m",
            "\u001b[0;31mNameError\u001b[0m: name 'df' is not defined"
          ]
        }
      ],
      "source": [
        "# The first row of the dataframe\n",
        "df.iloc[0]"
      ]
    },
    {
      "cell_type": "code",
      "execution_count": null,
      "metadata": {
        "id": "BukLcPbEshuV",
        "scrolled": true
      },
      "outputs": [],
      "source": [
        "# Select multiple rows at once\n",
        "df.iloc[[1, 2, 3]]"
      ]
    },
    {
      "cell_type": "code",
      "execution_count": null,
      "metadata": {
        "id": "W8KN4NT5wlmC"
      },
      "outputs": [],
      "source": [
        "# This syntax means all the list indicing methods can also be applied\n",
        "# Let's get every ten row in the dataset\n",
        "df.iloc[::10]"
      ]
    },
    {
      "cell_type": "markdown",
      "metadata": {
        "id": "DYVwF_UIwlmC"
      },
      "source": [
        "We can specify a column to use as the index column. In this case, `name` makes the most sense.\n",
        "\n",
        "Remember, the index column should contain unique values only!"
      ]
    },
    {
      "cell_type": "code",
      "execution_count": null,
      "metadata": {
        "id": "J37k1SUwwlmC"
      },
      "outputs": [],
      "source": [
        "# see how the leftmost row is now replaced with the cereal names\n",
        "df_ = df.set_index('name')\n",
        "df_.head()"
      ]
    },
    {
      "cell_type": "markdown",
      "metadata": {
        "id": "sUYthJOTwlmD"
      },
      "source": [
        "`loc` is used to index by the series/dataframe index.\n",
        "\n",
        "In our case, that will be `name`. If no index is specified, `loc` behaves similarly to `iloc`."
      ]
    },
    {
      "cell_type": "code",
      "execution_count": null,
      "metadata": {
        "colab": {
          "base_uri": "https://localhost:8080/",
          "height": 141
        },
        "id": "VwhuEoTAwlmD",
        "outputId": "850ab943-af20-4419-c404-5c312a0d77a9"
      },
      "outputs": [
        {
          "output_type": "error",
          "ename": "NameError",
          "evalue": "name 'df_' is not defined",
          "traceback": [
            "\u001b[0;31m---------------------------------------------------------------------------\u001b[0m",
            "\u001b[0;31mNameError\u001b[0m                                 Traceback (most recent call last)",
            "\u001b[0;32m<ipython-input-76-b0de66d8eb25>\u001b[0m in \u001b[0;36m<cell line: 0>\u001b[0;34m()\u001b[0m\n\u001b[0;32m----> 1\u001b[0;31m \u001b[0mdf_\u001b[0m\u001b[0;34m.\u001b[0m\u001b[0mloc\u001b[0m\u001b[0;34m[\u001b[0m\u001b[0;34m'All-Bran'\u001b[0m\u001b[0;34m]\u001b[0m\u001b[0;34m\u001b[0m\u001b[0;34m\u001b[0m\u001b[0m\n\u001b[0m",
            "\u001b[0;31mNameError\u001b[0m: name 'df_' is not defined"
          ]
        }
      ],
      "source": [
        "df_.loc['All-Bran']"
      ]
    },
    {
      "cell_type": "markdown",
      "metadata": {
        "id": "nS5hxsIBwlmE"
      },
      "source": [
        "By default, Pandas select all the columns. You can specify which columns to select with a list of column names."
      ]
    },
    {
      "cell_type": "code",
      "execution_count": null,
      "metadata": {
        "id": "HkOUOBMZwlmE"
      },
      "outputs": [],
      "source": [
        "df_.loc[\"All-Bran\"][[\"fat\", \"sodium\", \"sugars\"]]"
      ]
    },
    {
      "cell_type": "markdown",
      "metadata": {
        "id": "GAxoo-UgwlmF"
      },
      "source": [
        "An alternate syntax for specifying which columns to select:"
      ]
    },
    {
      "cell_type": "code",
      "execution_count": null,
      "metadata": {
        "id": "kSLp0nstwlmF"
      },
      "outputs": [],
      "source": [
        "df_.loc['All-Bran', [\"fat\", \"sodium\", \"sugars\"]]"
      ]
    },
    {
      "cell_type": "markdown",
      "metadata": {
        "id": "xzSt3LjbwlmF"
      },
      "source": [
        "The first syntax works for `iloc` as well but not the second. If you want to do something similar to the second syntax for `iloc`, you need to use the column indices instead."
      ]
    },
    {
      "cell_type": "code",
      "execution_count": null,
      "metadata": {
        "id": "anwsUHHgwlmF"
      },
      "outputs": [],
      "source": [
        "# fat is the 6th column in the table, so its index is 5 etc\n",
        "df.iloc[2, [5, 6, 9]]"
      ]
    },
    {
      "cell_type": "markdown",
      "metadata": {
        "id": "mkBqvNzdwlmF"
      },
      "source": [
        "### 6.1.1 Conditional Indexing"
      ]
    },
    {
      "cell_type": "markdown",
      "metadata": {
        "id": "eFxukqBOwlmG"
      },
      "source": [
        "Comparison operators (`==`, `!=`, `<`, `>`, `<=`, `>=`) work on Pandas series.\n",
        "\n",
        "The result is a series of the same size showing the result of the comparison element-by-element"
      ]
    },
    {
      "cell_type": "code",
      "execution_count": null,
      "metadata": {
        "id": "tXPOkpnvshuZ"
      },
      "outputs": [],
      "source": [
        "df[\"protein\"] > 3"
      ]
    },
    {
      "cell_type": "markdown",
      "metadata": {
        "id": "hbaPy5aawlmG"
      },
      "source": [
        "Pandas also allow selecting rows with a series of boolean values. Only the rows that corresponds to `True` will be selected.\n",
        "\n",
        "Combining the two features:"
      ]
    },
    {
      "cell_type": "code",
      "execution_count": null,
      "metadata": {
        "id": "AuoAkjxqshub"
      },
      "outputs": [],
      "source": [
        "# This gives us all the rows in which the protein is greater than 3.\n",
        "df[df[\"protein\"] > 3]"
      ]
    },
    {
      "cell_type": "code",
      "execution_count": null,
      "metadata": {
        "id": "19KLsUFswlmG"
      },
      "outputs": [],
      "source": [
        "# You can compare two columns\n",
        "# Get all the cereals with more protein than sugar\n",
        "df[df[\"protein\"] > df[\"sugars\"]]"
      ]
    },
    {
      "cell_type": "markdown",
      "metadata": {
        "id": "stF5hC-uwlmH"
      },
      "source": [
        "You can also chain multiple conditions with `and`, `or`, and `not`.\n",
        "\n",
        "However, due to Python's implementation details, you need to replace `and` with `&`, `or` with `|`, and `not` with `~` to use conditional indexing on a dataframe.\n",
        "\n",
        "Read more about why on this [post](https://stackoverflow.com/questions/21415661/logical-operators-for-boolean-indexing-in-pandas)."
      ]
    },
    {
      "cell_type": "code",
      "execution_count": null,
      "metadata": {
        "id": "eyELpexzwlmH"
      },
      "outputs": [],
      "source": [
        "# Let's find all the cereals with more than 3g of protein and less than 5g of sugar\n",
        "# You have to put each condition in parenthesis\n",
        "df[(df[\"protein\"] > 3) & (df[\"sugars\"] < 5)]"
      ]
    },
    {
      "cell_type": "markdown",
      "metadata": {
        "id": "oL2wYVpUshue"
      },
      "source": [
        "##  6.2 Data Transformation"
      ]
    },
    {
      "cell_type": "markdown",
      "metadata": {
        "id": "J5lhb4ptwlmQ"
      },
      "source": [
        "When we are processing data, it is common to add new columns based on existing columns.\n",
        "\n",
        "In the case of cereal dataframe, most measurements are standarized to 1 weight unit but 1 weight unit is one cup for one cereal and half a cup for another.\n",
        "\n",
        "We should probably add a column that documents how many weight units are in a cup for each cereal."
      ]
    },
    {
      "cell_type": "code",
      "execution_count": null,
      "metadata": {
        "id": "3_aSm7QAwlmR"
      },
      "outputs": [],
      "source": [
        "# Arithmetic between series in the same dataframe is quite simple\n",
        "# We will create a new column called \"weight_per_cup\"\n",
        "\n",
        "df[\"weight_per_cup\"] = df[\"weight\"] / df[\"cups\"]\n",
        "df.head()"
      ]
    },
    {
      "cell_type": "markdown",
      "metadata": {
        "id": "CnDqxrLIwlmR"
      },
      "source": [
        "We may also want to make changes to a specific column. We can do this with the `apply()` function."
      ]
    },
    {
      "cell_type": "code",
      "execution_count": null,
      "metadata": {
        "id": "wJMixASHshuf"
      },
      "outputs": [],
      "source": [
        "# Let's add \"Delicious \" to the beginning of every name\n",
        "\n",
        "# The pattern is we define a function for a single entry\n",
        "def make_delicious(name):\n",
        "    return \"Delicious \" + name\n",
        "\n",
        "# and then call apply on the series to apply the function to each element in the series\n",
        "df[\"name\"].apply(make_delicious)"
      ]
    },
    {
      "cell_type": "code",
      "execution_count": null,
      "metadata": {
        "id": "V3VsiOUhshuh"
      },
      "outputs": [],
      "source": [
        "# this returns the changes, but doesn't apply them in place\n",
        "# that means on our original dataframe, the cereals are still bland\n",
        "df.head()"
      ]
    },
    {
      "cell_type": "code",
      "execution_count": null,
      "metadata": {
        "id": "4nB_ha-Nshul"
      },
      "outputs": [],
      "source": [
        "# we can fix this by assigning the new names to the column\n",
        "df[\"name\"] = df[\"name\"].apply(make_delicious)\n",
        "df.head()"
      ]
    },
    {
      "cell_type": "markdown",
      "metadata": {
        "id": "oI8jHLCGwlmS"
      },
      "source": [
        "## 6.3 Grouping & Aggregating"
      ]
    },
    {
      "cell_type": "markdown",
      "metadata": {
        "id": "U5u8WCMRwlmS"
      },
      "source": [
        "When we have lots and lots of data, it's more useful to look at aggregate statistics like the mean or median but we may lose too much detail aggregating across the whole dataset.\n",
        "\n",
        "The solution is to aggregate across groups. For example, maybe we're less interested in the mean calorie count of all cereals and more interested in the mean for each manufacturer."
      ]
    },
    {
      "cell_type": "code",
      "execution_count": null,
      "metadata": {
        "id": "LHsPMHwbwlmS"
      },
      "outputs": [],
      "source": [
        "# First, we can see how many (and which) unique manufacturers there are\n",
        "print(df[\"mfr\"].unique())\n",
        "print(df[\"mfr\"].nunique())"
      ]
    },
    {
      "cell_type": "code",
      "execution_count": null,
      "metadata": {
        "id": "1qGBkYG2wlmS"
      },
      "outputs": [],
      "source": [
        "# Now let's group by the manufacturers\n",
        "# This gives us a groupby object across the dataframe\n",
        "mfrs = df.groupby(\"mfr\")\n",
        "mfrs"
      ]
    },
    {
      "cell_type": "code",
      "execution_count": null,
      "metadata": {
        "id": "HdH57YiwwlmT"
      },
      "outputs": [],
      "source": [
        "# now let's find the mean calories of each manufacturer\n",
        "mfrs[\"calories\"].mean()"
      ]
    },
    {
      "cell_type": "markdown",
      "metadata": {
        "id": "KUGVKy39wlmU"
      },
      "source": [
        "You can also group by multiple columns.\n",
        "\n",
        "Let's get the median calorie count for each combination of manufacturer and type."
      ]
    },
    {
      "cell_type": "code",
      "execution_count": null,
      "metadata": {
        "id": "5VnG8Qv3wlmU"
      },
      "outputs": [],
      "source": [
        "# The groupby functions always precede any aggregate function\n",
        "df.groupby([\"mfr\", \"type\"])[\"calories\"].median()"
      ]
    },
    {
      "cell_type": "markdown",
      "metadata": {
        "id": "RSwnaE14wlmU"
      },
      "source": [
        "## 6.4 Leveraging Lambda Functions in Pandas (Optional)"
      ]
    },
    {
      "cell_type": "markdown",
      "metadata": {
        "id": "V2QvRB4CwlmV"
      },
      "source": [
        "We will quickly demonstrate two places where lambda functions are very powerful, conditional indexing and data transformation."
      ]
    },
    {
      "cell_type": "code",
      "execution_count": null,
      "metadata": {
        "id": "rF7ePfynwlmV"
      },
      "outputs": [],
      "source": [
        "# We want to filter for rows satisfying col1 > bound1 and col2 > bound2\n",
        "filter_func = lambda row, col1, bound1, col2, bound2: row.loc[col1] > bound1 and row.loc[col2] > bound2\n",
        "\n",
        "# You almost always want axis=1 for apply(), which means to operate row by row\n",
        "df[df.apply(lambda row: filter_func(row, \"sugars\", 5, \"calories\", 150), axis=1)]"
      ]
    },
    {
      "cell_type": "code",
      "execution_count": null,
      "metadata": {
        "id": "VPbDi2cdwlmV"
      },
      "outputs": [],
      "source": [
        "# We want to calculate some sort of health metric for each cereal by finding a weighted sum of its nutrients\n",
        "\n",
        "def random_metric(row):\n",
        "    return 2*row.loc[\"protein\"] + -0.5*row.loc[\"fat\"] + 1.5*row.loc[\"fiber\"] - 1*row.loc[\"sugars\"]\n",
        "\n",
        "df[\"random_metric\"] = df.apply(lambda row: random_metric(row), axis=1)\n",
        "df.head()"
      ]
    }
  ],
  "metadata": {
    "kernelspec": {
      "display_name": "Python 3.8.5 ('base')",
      "language": "python",
      "name": "python3"
    },
    "language_info": {
      "codemirror_mode": {
        "name": "ipython",
        "version": 3
      },
      "file_extension": ".py",
      "mimetype": "text/x-python",
      "name": "python",
      "nbconvert_exporter": "python",
      "pygments_lexer": "ipython3",
      "version": "3.12.4"
    },
    "vscode": {
      "interpreter": {
        "hash": "e78b6b4158d8f577a77be3bef6c4f5889b406541923fa59adc2e6c48950512fc"
      }
    },
    "colab": {
      "provenance": []
    }
  },
  "nbformat": 4,
  "nbformat_minor": 0
}